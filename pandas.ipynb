{
 "cells": [
  {
   "cell_type": "markdown",
   "metadata": {},
   "source": [
    "# pandas\n",
    "pandas is  an opensource,bsd licence providing high performance,easy to use  datastructuresand data analysis tools for python programming language"
   ]
  },
  {
   "cell_type": "code",
   "execution_count": 2,
   "metadata": {},
   "outputs": [],
   "source": [
    "import pandas as pd\n",
    "import numpy as np"
   ]
  },
  {
   "cell_type": "code",
   "execution_count": 3,
   "metadata": {},
   "outputs": [],
   "source": [
    "df = pd.DataFrame(np.arange(0,20).reshape(5,4),index=['row1','row2','row3','row4','row5'],columns =['column1','column2','column3','column4'])"
   ]
  },
  {
   "cell_type": "code",
   "execution_count": 4,
   "metadata": {},
   "outputs": [
    {
     "data": {
      "text/html": [
       "<div>\n",
       "<style scoped>\n",
       "    .dataframe tbody tr th:only-of-type {\n",
       "        vertical-align: middle;\n",
       "    }\n",
       "\n",
       "    .dataframe tbody tr th {\n",
       "        vertical-align: top;\n",
       "    }\n",
       "\n",
       "    .dataframe thead th {\n",
       "        text-align: right;\n",
       "    }\n",
       "</style>\n",
       "<table border=\"1\" class=\"dataframe\">\n",
       "  <thead>\n",
       "    <tr style=\"text-align: right;\">\n",
       "      <th></th>\n",
       "      <th>column1</th>\n",
       "      <th>column2</th>\n",
       "      <th>column3</th>\n",
       "      <th>column4</th>\n",
       "    </tr>\n",
       "  </thead>\n",
       "  <tbody>\n",
       "    <tr>\n",
       "      <th>row1</th>\n",
       "      <td>0</td>\n",
       "      <td>1</td>\n",
       "      <td>2</td>\n",
       "      <td>3</td>\n",
       "    </tr>\n",
       "    <tr>\n",
       "      <th>row2</th>\n",
       "      <td>4</td>\n",
       "      <td>5</td>\n",
       "      <td>6</td>\n",
       "      <td>7</td>\n",
       "    </tr>\n",
       "    <tr>\n",
       "      <th>row3</th>\n",
       "      <td>8</td>\n",
       "      <td>9</td>\n",
       "      <td>10</td>\n",
       "      <td>11</td>\n",
       "    </tr>\n",
       "    <tr>\n",
       "      <th>row4</th>\n",
       "      <td>12</td>\n",
       "      <td>13</td>\n",
       "      <td>14</td>\n",
       "      <td>15</td>\n",
       "    </tr>\n",
       "    <tr>\n",
       "      <th>row5</th>\n",
       "      <td>16</td>\n",
       "      <td>17</td>\n",
       "      <td>18</td>\n",
       "      <td>19</td>\n",
       "    </tr>\n",
       "  </tbody>\n",
       "</table>\n",
       "</div>"
      ],
      "text/plain": [
       "      column1  column2  column3  column4\n",
       "row1        0        1        2        3\n",
       "row2        4        5        6        7\n",
       "row3        8        9       10       11\n",
       "row4       12       13       14       15\n",
       "row5       16       17       18       19"
      ]
     },
     "execution_count": 4,
     "metadata": {},
     "output_type": "execute_result"
    }
   ],
   "source": [
    "df.head()"
   ]
  },
  {
   "cell_type": "code",
   "execution_count": 5,
   "metadata": {},
   "outputs": [],
   "source": [
    "df.to_csv('test.csv')"
   ]
  },
  {
   "cell_type": "code",
   "execution_count": 6,
   "metadata": {},
   "outputs": [
    {
     "data": {
      "text/plain": [
       "column1    0\n",
       "column2    1\n",
       "column3    2\n",
       "column4    3\n",
       "Name: row1, dtype: int32"
      ]
     },
     "execution_count": 6,
     "metadata": {},
     "output_type": "execute_result"
    }
   ],
   "source": [
    "## loc --->it means location \n",
    "##iloc -->index locations\n",
    "df.loc['row1']"
   ]
  },
  {
   "cell_type": "code",
   "execution_count": 7,
   "metadata": {},
   "outputs": [
    {
     "data": {
      "text/html": [
       "<div>\n",
       "<style scoped>\n",
       "    .dataframe tbody tr th:only-of-type {\n",
       "        vertical-align: middle;\n",
       "    }\n",
       "\n",
       "    .dataframe tbody tr th {\n",
       "        vertical-align: top;\n",
       "    }\n",
       "\n",
       "    .dataframe thead th {\n",
       "        text-align: right;\n",
       "    }\n",
       "</style>\n",
       "<table border=\"1\" class=\"dataframe\">\n",
       "  <thead>\n",
       "    <tr style=\"text-align: right;\">\n",
       "      <th></th>\n",
       "      <th>column1</th>\n",
       "      <th>column2</th>\n",
       "      <th>column3</th>\n",
       "      <th>column4</th>\n",
       "    </tr>\n",
       "  </thead>\n",
       "  <tbody>\n",
       "    <tr>\n",
       "      <th>row1</th>\n",
       "      <td>0</td>\n",
       "      <td>1</td>\n",
       "      <td>2</td>\n",
       "      <td>3</td>\n",
       "    </tr>\n",
       "    <tr>\n",
       "      <th>row2</th>\n",
       "      <td>4</td>\n",
       "      <td>5</td>\n",
       "      <td>6</td>\n",
       "      <td>7</td>\n",
       "    </tr>\n",
       "    <tr>\n",
       "      <th>row3</th>\n",
       "      <td>8</td>\n",
       "      <td>9</td>\n",
       "      <td>10</td>\n",
       "      <td>11</td>\n",
       "    </tr>\n",
       "    <tr>\n",
       "      <th>row4</th>\n",
       "      <td>12</td>\n",
       "      <td>13</td>\n",
       "      <td>14</td>\n",
       "      <td>15</td>\n",
       "    </tr>\n",
       "    <tr>\n",
       "      <th>row5</th>\n",
       "      <td>16</td>\n",
       "      <td>17</td>\n",
       "      <td>18</td>\n",
       "      <td>19</td>\n",
       "    </tr>\n",
       "  </tbody>\n",
       "</table>\n",
       "</div>"
      ],
      "text/plain": [
       "      column1  column2  column3  column4\n",
       "row1        0        1        2        3\n",
       "row2        4        5        6        7\n",
       "row3        8        9       10       11\n",
       "row4       12       13       14       15\n",
       "row5       16       17       18       19"
      ]
     },
     "execution_count": 7,
     "metadata": {},
     "output_type": "execute_result"
    }
   ],
   "source": [
    "df.iloc[:,:]"
   ]
  },
  {
   "cell_type": "code",
   "execution_count": 8,
   "metadata": {},
   "outputs": [
    {
     "data": {
      "text/plain": [
       "pandas.core.series.Series"
      ]
     },
     "execution_count": 8,
     "metadata": {},
     "output_type": "execute_result"
    }
   ],
   "source": [
    "#more than one row or one colmn is called dataframe\n",
    "#one row or one clumn is called is series\n",
    "type(df.loc['row1'])"
   ]
  },
  {
   "cell_type": "code",
   "execution_count": 9,
   "metadata": {},
   "outputs": [
    {
     "data": {
      "text/html": [
       "<div>\n",
       "<style scoped>\n",
       "    .dataframe tbody tr th:only-of-type {\n",
       "        vertical-align: middle;\n",
       "    }\n",
       "\n",
       "    .dataframe tbody tr th {\n",
       "        vertical-align: top;\n",
       "    }\n",
       "\n",
       "    .dataframe thead th {\n",
       "        text-align: right;\n",
       "    }\n",
       "</style>\n",
       "<table border=\"1\" class=\"dataframe\">\n",
       "  <thead>\n",
       "    <tr style=\"text-align: right;\">\n",
       "      <th></th>\n",
       "      <th>column3</th>\n",
       "      <th>column4</th>\n",
       "    </tr>\n",
       "  </thead>\n",
       "  <tbody>\n",
       "    <tr>\n",
       "      <th>row4</th>\n",
       "      <td>14</td>\n",
       "      <td>15</td>\n",
       "    </tr>\n",
       "    <tr>\n",
       "      <th>row5</th>\n",
       "      <td>18</td>\n",
       "      <td>19</td>\n",
       "    </tr>\n",
       "  </tbody>\n",
       "</table>\n",
       "</div>"
      ],
      "text/plain": [
       "      column3  column4\n",
       "row4       14       15\n",
       "row5       18       19"
      ]
     },
     "execution_count": 9,
     "metadata": {},
     "output_type": "execute_result"
    }
   ],
   "source": [
    "df.iloc[3:,2:]"
   ]
  },
  {
   "cell_type": "code",
   "execution_count": 10,
   "metadata": {},
   "outputs": [
    {
     "data": {
      "text/html": [
       "<div>\n",
       "<style scoped>\n",
       "    .dataframe tbody tr th:only-of-type {\n",
       "        vertical-align: middle;\n",
       "    }\n",
       "\n",
       "    .dataframe tbody tr th {\n",
       "        vertical-align: top;\n",
       "    }\n",
       "\n",
       "    .dataframe thead th {\n",
       "        text-align: right;\n",
       "    }\n",
       "</style>\n",
       "<table border=\"1\" class=\"dataframe\">\n",
       "  <thead>\n",
       "    <tr style=\"text-align: right;\">\n",
       "      <th></th>\n",
       "      <th>column1</th>\n",
       "      <th>column3</th>\n",
       "    </tr>\n",
       "  </thead>\n",
       "  <tbody>\n",
       "    <tr>\n",
       "      <th>row2</th>\n",
       "      <td>4</td>\n",
       "      <td>6</td>\n",
       "    </tr>\n",
       "    <tr>\n",
       "      <th>row3</th>\n",
       "      <td>8</td>\n",
       "      <td>10</td>\n",
       "    </tr>\n",
       "  </tbody>\n",
       "</table>\n",
       "</div>"
      ],
      "text/plain": [
       "      column1  column3\n",
       "row2        4        6\n",
       "row3        8       10"
      ]
     },
     "execution_count": 10,
     "metadata": {},
     "output_type": "execute_result"
    }
   ],
   "source": [
    "df.iloc[1:3,0::2]"
   ]
  },
  {
   "cell_type": "code",
   "execution_count": 11,
   "metadata": {},
   "outputs": [
    {
     "data": {
      "text/plain": [
       "array([[ 1,  2,  3],\n",
       "       [ 5,  6,  7],\n",
       "       [ 9, 10, 11],\n",
       "       [13, 14, 15],\n",
       "       [17, 18, 19]])"
      ]
     },
     "execution_count": 11,
     "metadata": {},
     "output_type": "execute_result"
    }
   ],
   "source": [
    "#conversting data frame values to array\n",
    "df.iloc[:,1:].values"
   ]
  },
  {
   "cell_type": "code",
   "execution_count": 12,
   "metadata": {},
   "outputs": [
    {
     "data": {
      "text/plain": [
       "column1    0\n",
       "column2    0\n",
       "column3    0\n",
       "column4    0\n",
       "dtype: int64"
      ]
     },
     "execution_count": 12,
     "metadata": {},
     "output_type": "execute_result"
    }
   ],
   "source": [
    "#this is check null values\n",
    "df.isnull().sum()"
   ]
  },
  {
   "cell_type": "code",
   "execution_count": 13,
   "metadata": {},
   "outputs": [
    {
     "data": {
      "text/plain": [
       "array([ 0,  4,  8, 12, 16])"
      ]
     },
     "execution_count": 13,
     "metadata": {},
     "output_type": "execute_result"
    }
   ],
   "source": [
    "#count unique values\n",
    "df['column1'].unique()"
   ]
  },
  {
   "cell_type": "code",
   "execution_count": 14,
   "metadata": {},
   "outputs": [
    {
     "data": {
      "text/html": [
       "<div>\n",
       "<style scoped>\n",
       "    .dataframe tbody tr th:only-of-type {\n",
       "        vertical-align: middle;\n",
       "    }\n",
       "\n",
       "    .dataframe tbody tr th {\n",
       "        vertical-align: top;\n",
       "    }\n",
       "\n",
       "    .dataframe thead th {\n",
       "        text-align: right;\n",
       "    }\n",
       "</style>\n",
       "<table border=\"1\" class=\"dataframe\">\n",
       "  <thead>\n",
       "    <tr style=\"text-align: right;\">\n",
       "      <th></th>\n",
       "      <th>column1</th>\n",
       "      <th>column3</th>\n",
       "    </tr>\n",
       "  </thead>\n",
       "  <tbody>\n",
       "    <tr>\n",
       "      <th>row1</th>\n",
       "      <td>0</td>\n",
       "      <td>2</td>\n",
       "    </tr>\n",
       "    <tr>\n",
       "      <th>row2</th>\n",
       "      <td>4</td>\n",
       "      <td>6</td>\n",
       "    </tr>\n",
       "    <tr>\n",
       "      <th>row3</th>\n",
       "      <td>8</td>\n",
       "      <td>10</td>\n",
       "    </tr>\n",
       "    <tr>\n",
       "      <th>row4</th>\n",
       "      <td>12</td>\n",
       "      <td>14</td>\n",
       "    </tr>\n",
       "    <tr>\n",
       "      <th>row5</th>\n",
       "      <td>16</td>\n",
       "      <td>18</td>\n",
       "    </tr>\n",
       "  </tbody>\n",
       "</table>\n",
       "</div>"
      ],
      "text/plain": [
       "      column1  column3\n",
       "row1        0        2\n",
       "row2        4        6\n",
       "row3        8       10\n",
       "row4       12       14\n",
       "row5       16       18"
      ]
     },
     "execution_count": 14,
     "metadata": {},
     "output_type": "execute_result"
    }
   ],
   "source": [
    "df[['column1','column3']]"
   ]
  },
  {
   "cell_type": "code",
   "execution_count": 15,
   "metadata": {},
   "outputs": [],
   "source": [
    "df=pd.read_csv('test.csv')"
   ]
  },
  {
   "cell_type": "code",
   "execution_count": 16,
   "metadata": {},
   "outputs": [
    {
     "name": "stdout",
     "output_type": "stream",
     "text": [
      "<class 'pandas.core.frame.DataFrame'>\n",
      "RangeIndex: 5 entries, 0 to 4\n",
      "Data columns (total 5 columns):\n",
      " #   Column      Non-Null Count  Dtype \n",
      "---  ------      --------------  ----- \n",
      " 0   Unnamed: 0  5 non-null      object\n",
      " 1   column1     5 non-null      int64 \n",
      " 2   column2     5 non-null      int64 \n",
      " 3   column3     5 non-null      int64 \n",
      " 4   column4     5 non-null      int64 \n",
      "dtypes: int64(4), object(1)\n",
      "memory usage: 328.0+ bytes\n"
     ]
    }
   ],
   "source": [
    "df.info()"
   ]
  },
  {
   "cell_type": "code",
   "execution_count": 17,
   "metadata": {},
   "outputs": [
    {
     "data": {
      "text/html": [
       "<div>\n",
       "<style scoped>\n",
       "    .dataframe tbody tr th:only-of-type {\n",
       "        vertical-align: middle;\n",
       "    }\n",
       "\n",
       "    .dataframe tbody tr th {\n",
       "        vertical-align: top;\n",
       "    }\n",
       "\n",
       "    .dataframe thead th {\n",
       "        text-align: right;\n",
       "    }\n",
       "</style>\n",
       "<table border=\"1\" class=\"dataframe\">\n",
       "  <thead>\n",
       "    <tr style=\"text-align: right;\">\n",
       "      <th></th>\n",
       "      <th>column1</th>\n",
       "      <th>column2</th>\n",
       "      <th>column3</th>\n",
       "      <th>column4</th>\n",
       "    </tr>\n",
       "  </thead>\n",
       "  <tbody>\n",
       "    <tr>\n",
       "      <th>count</th>\n",
       "      <td>5.000000</td>\n",
       "      <td>5.000000</td>\n",
       "      <td>5.000000</td>\n",
       "      <td>5.000000</td>\n",
       "    </tr>\n",
       "    <tr>\n",
       "      <th>mean</th>\n",
       "      <td>8.000000</td>\n",
       "      <td>9.000000</td>\n",
       "      <td>10.000000</td>\n",
       "      <td>11.000000</td>\n",
       "    </tr>\n",
       "    <tr>\n",
       "      <th>std</th>\n",
       "      <td>6.324555</td>\n",
       "      <td>6.324555</td>\n",
       "      <td>6.324555</td>\n",
       "      <td>6.324555</td>\n",
       "    </tr>\n",
       "    <tr>\n",
       "      <th>min</th>\n",
       "      <td>0.000000</td>\n",
       "      <td>1.000000</td>\n",
       "      <td>2.000000</td>\n",
       "      <td>3.000000</td>\n",
       "    </tr>\n",
       "    <tr>\n",
       "      <th>25%</th>\n",
       "      <td>4.000000</td>\n",
       "      <td>5.000000</td>\n",
       "      <td>6.000000</td>\n",
       "      <td>7.000000</td>\n",
       "    </tr>\n",
       "    <tr>\n",
       "      <th>50%</th>\n",
       "      <td>8.000000</td>\n",
       "      <td>9.000000</td>\n",
       "      <td>10.000000</td>\n",
       "      <td>11.000000</td>\n",
       "    </tr>\n",
       "    <tr>\n",
       "      <th>75%</th>\n",
       "      <td>12.000000</td>\n",
       "      <td>13.000000</td>\n",
       "      <td>14.000000</td>\n",
       "      <td>15.000000</td>\n",
       "    </tr>\n",
       "    <tr>\n",
       "      <th>max</th>\n",
       "      <td>16.000000</td>\n",
       "      <td>17.000000</td>\n",
       "      <td>18.000000</td>\n",
       "      <td>19.000000</td>\n",
       "    </tr>\n",
       "  </tbody>\n",
       "</table>\n",
       "</div>"
      ],
      "text/plain": [
       "         column1    column2    column3    column4\n",
       "count   5.000000   5.000000   5.000000   5.000000\n",
       "mean    8.000000   9.000000  10.000000  11.000000\n",
       "std     6.324555   6.324555   6.324555   6.324555\n",
       "min     0.000000   1.000000   2.000000   3.000000\n",
       "25%     4.000000   5.000000   6.000000   7.000000\n",
       "50%     8.000000   9.000000  10.000000  11.000000\n",
       "75%    12.000000  13.000000  14.000000  15.000000\n",
       "max    16.000000  17.000000  18.000000  19.000000"
      ]
     },
     "execution_count": 17,
     "metadata": {},
     "output_type": "execute_result"
    }
   ],
   "source": [
    "df.describe()"
   ]
  },
  {
   "cell_type": "code",
   "execution_count": null,
   "metadata": {},
   "outputs": [],
   "source": []
  },
  {
   "cell_type": "code",
   "execution_count": 18,
   "metadata": {},
   "outputs": [
    {
     "data": {
      "text/html": [
       "<div>\n",
       "<style scoped>\n",
       "    .dataframe tbody tr th:only-of-type {\n",
       "        vertical-align: middle;\n",
       "    }\n",
       "\n",
       "    .dataframe tbody tr th {\n",
       "        vertical-align: top;\n",
       "    }\n",
       "\n",
       "    .dataframe thead th {\n",
       "        text-align: right;\n",
       "    }\n",
       "</style>\n",
       "<table border=\"1\" class=\"dataframe\">\n",
       "  <thead>\n",
       "    <tr style=\"text-align: right;\">\n",
       "      <th></th>\n",
       "      <th>Unnamed: 0</th>\n",
       "      <th>column1</th>\n",
       "      <th>column2</th>\n",
       "      <th>column3</th>\n",
       "      <th>column4</th>\n",
       "    </tr>\n",
       "  </thead>\n",
       "  <tbody>\n",
       "    <tr>\n",
       "      <th>0</th>\n",
       "      <td>row1</td>\n",
       "      <td>0</td>\n",
       "      <td>1</td>\n",
       "      <td>2</td>\n",
       "      <td>3</td>\n",
       "    </tr>\n",
       "    <tr>\n",
       "      <th>1</th>\n",
       "      <td>row2</td>\n",
       "      <td>4</td>\n",
       "      <td>5</td>\n",
       "      <td>6</td>\n",
       "      <td>7</td>\n",
       "    </tr>\n",
       "    <tr>\n",
       "      <th>2</th>\n",
       "      <td>row3</td>\n",
       "      <td>8</td>\n",
       "      <td>9</td>\n",
       "      <td>10</td>\n",
       "      <td>11</td>\n",
       "    </tr>\n",
       "    <tr>\n",
       "      <th>3</th>\n",
       "      <td>row4</td>\n",
       "      <td>12</td>\n",
       "      <td>13</td>\n",
       "      <td>14</td>\n",
       "      <td>15</td>\n",
       "    </tr>\n",
       "    <tr>\n",
       "      <th>4</th>\n",
       "      <td>row5</td>\n",
       "      <td>16</td>\n",
       "      <td>17</td>\n",
       "      <td>18</td>\n",
       "      <td>19</td>\n",
       "    </tr>\n",
       "  </tbody>\n",
       "</table>\n",
       "</div>"
      ],
      "text/plain": [
       "  Unnamed: 0  column1  column2  column3  column4\n",
       "0       row1        0        1        2        3\n",
       "1       row2        4        5        6        7\n",
       "2       row3        8        9       10       11\n",
       "3       row4       12       13       14       15\n",
       "4       row5       16       17       18       19"
      ]
     },
     "execution_count": 18,
     "metadata": {},
     "output_type": "execute_result"
    }
   ],
   "source": [
    "df.head()\n"
   ]
  },
  {
   "cell_type": "code",
   "execution_count": 46,
   "metadata": {},
   "outputs": [
    {
     "data": {
      "text/html": [
       "<div>\n",
       "<style scoped>\n",
       "    .dataframe tbody tr th:only-of-type {\n",
       "        vertical-align: middle;\n",
       "    }\n",
       "\n",
       "    .dataframe tbody tr th {\n",
       "        vertical-align: top;\n",
       "    }\n",
       "\n",
       "    .dataframe thead th {\n",
       "        text-align: right;\n",
       "    }\n",
       "</style>\n",
       "<table border=\"1\" class=\"dataframe\">\n",
       "  <thead>\n",
       "    <tr style=\"text-align: right;\">\n",
       "      <th></th>\n",
       "      <th>Unnamed: 0</th>\n",
       "      <th>column1</th>\n",
       "      <th>column2</th>\n",
       "      <th>column3</th>\n",
       "      <th>column4</th>\n",
       "    </tr>\n",
       "  </thead>\n",
       "  <tbody>\n",
       "    <tr>\n",
       "      <th>0</th>\n",
       "      <td>row1</td>\n",
       "      <td>0</td>\n",
       "      <td>1</td>\n",
       "      <td>2</td>\n",
       "      <td>3</td>\n",
       "    </tr>\n",
       "    <tr>\n",
       "      <th>1</th>\n",
       "      <td>row2</td>\n",
       "      <td>4</td>\n",
       "      <td>5</td>\n",
       "      <td>6</td>\n",
       "      <td>7</td>\n",
       "    </tr>\n",
       "    <tr>\n",
       "      <th>2</th>\n",
       "      <td>row3</td>\n",
       "      <td>8</td>\n",
       "      <td>9</td>\n",
       "      <td>10</td>\n",
       "      <td>11</td>\n",
       "    </tr>\n",
       "    <tr>\n",
       "      <th>3</th>\n",
       "      <td>row4</td>\n",
       "      <td>12</td>\n",
       "      <td>13</td>\n",
       "      <td>14</td>\n",
       "      <td>15</td>\n",
       "    </tr>\n",
       "    <tr>\n",
       "      <th>4</th>\n",
       "      <td>row5</td>\n",
       "      <td>16</td>\n",
       "      <td>17</td>\n",
       "      <td>18</td>\n",
       "      <td>19</td>\n",
       "    </tr>\n",
       "  </tbody>\n",
       "</table>\n",
       "</div>"
      ],
      "text/plain": [
       "  Unnamed: 0  column1  column2  column3  column4\n",
       "0       row1        0        1        2        3\n",
       "1       row2        4        5        6        7\n",
       "2       row3        8        9       10       11\n",
       "3       row4       12       13       14       15\n",
       "4       row5       16       17       18       19"
      ]
     },
     "execution_count": 46,
     "metadata": {},
     "output_type": "execute_result"
    }
   ],
   "source": [
    "test_df = pd.read_csv('test.csv',sep=';')\n",
    "test_df"
   ]
  },
  {
   "cell_type": "code",
   "execution_count": 47,
   "metadata": {},
   "outputs": [
    {
     "data": {
      "text/html": [
       "<div>\n",
       "<style scoped>\n",
       "    .dataframe tbody tr th:only-of-type {\n",
       "        vertical-align: middle;\n",
       "    }\n",
       "\n",
       "    .dataframe tbody tr th {\n",
       "        vertical-align: top;\n",
       "    }\n",
       "\n",
       "    .dataframe thead th {\n",
       "        text-align: right;\n",
       "    }\n",
       "</style>\n",
       "<table border=\"1\" class=\"dataframe\">\n",
       "  <thead>\n",
       "    <tr style=\"text-align: right;\">\n",
       "      <th></th>\n",
       "      <th>ID</th>\n",
       "      <th>y</th>\n",
       "      <th>X0</th>\n",
       "      <th>X1</th>\n",
       "      <th>X2</th>\n",
       "      <th>X3</th>\n",
       "      <th>X4</th>\n",
       "      <th>X5</th>\n",
       "      <th>X6</th>\n",
       "      <th>X8</th>\n",
       "      <th>...</th>\n",
       "      <th>X375</th>\n",
       "      <th>X376</th>\n",
       "      <th>X377</th>\n",
       "      <th>X378</th>\n",
       "      <th>X379</th>\n",
       "      <th>X380</th>\n",
       "      <th>X382</th>\n",
       "      <th>X383</th>\n",
       "      <th>X384</th>\n",
       "      <th>X385</th>\n",
       "    </tr>\n",
       "  </thead>\n",
       "  <tbody>\n",
       "    <tr>\n",
       "      <th>0</th>\n",
       "      <td>0</td>\n",
       "      <td>130.81</td>\n",
       "      <td>k</td>\n",
       "      <td>v</td>\n",
       "      <td>at</td>\n",
       "      <td>a</td>\n",
       "      <td>d</td>\n",
       "      <td>u</td>\n",
       "      <td>j</td>\n",
       "      <td>o</td>\n",
       "      <td>...</td>\n",
       "      <td>0</td>\n",
       "      <td>0</td>\n",
       "      <td>1</td>\n",
       "      <td>0</td>\n",
       "      <td>0</td>\n",
       "      <td>0</td>\n",
       "      <td>0</td>\n",
       "      <td>0</td>\n",
       "      <td>0</td>\n",
       "      <td>0</td>\n",
       "    </tr>\n",
       "    <tr>\n",
       "      <th>1</th>\n",
       "      <td>6</td>\n",
       "      <td>88.53</td>\n",
       "      <td>k</td>\n",
       "      <td>t</td>\n",
       "      <td>av</td>\n",
       "      <td>e</td>\n",
       "      <td>d</td>\n",
       "      <td>y</td>\n",
       "      <td>l</td>\n",
       "      <td>o</td>\n",
       "      <td>...</td>\n",
       "      <td>1</td>\n",
       "      <td>0</td>\n",
       "      <td>0</td>\n",
       "      <td>0</td>\n",
       "      <td>0</td>\n",
       "      <td>0</td>\n",
       "      <td>0</td>\n",
       "      <td>0</td>\n",
       "      <td>0</td>\n",
       "      <td>0</td>\n",
       "    </tr>\n",
       "    <tr>\n",
       "      <th>2</th>\n",
       "      <td>7</td>\n",
       "      <td>76.26</td>\n",
       "      <td>az</td>\n",
       "      <td>w</td>\n",
       "      <td>n</td>\n",
       "      <td>c</td>\n",
       "      <td>d</td>\n",
       "      <td>x</td>\n",
       "      <td>j</td>\n",
       "      <td>x</td>\n",
       "      <td>...</td>\n",
       "      <td>0</td>\n",
       "      <td>0</td>\n",
       "      <td>0</td>\n",
       "      <td>0</td>\n",
       "      <td>0</td>\n",
       "      <td>0</td>\n",
       "      <td>1</td>\n",
       "      <td>0</td>\n",
       "      <td>0</td>\n",
       "      <td>0</td>\n",
       "    </tr>\n",
       "    <tr>\n",
       "      <th>3</th>\n",
       "      <td>9</td>\n",
       "      <td>80.62</td>\n",
       "      <td>az</td>\n",
       "      <td>t</td>\n",
       "      <td>n</td>\n",
       "      <td>f</td>\n",
       "      <td>d</td>\n",
       "      <td>x</td>\n",
       "      <td>l</td>\n",
       "      <td>e</td>\n",
       "      <td>...</td>\n",
       "      <td>0</td>\n",
       "      <td>0</td>\n",
       "      <td>0</td>\n",
       "      <td>0</td>\n",
       "      <td>0</td>\n",
       "      <td>0</td>\n",
       "      <td>0</td>\n",
       "      <td>0</td>\n",
       "      <td>0</td>\n",
       "      <td>0</td>\n",
       "    </tr>\n",
       "    <tr>\n",
       "      <th>4</th>\n",
       "      <td>13</td>\n",
       "      <td>78.02</td>\n",
       "      <td>az</td>\n",
       "      <td>v</td>\n",
       "      <td>n</td>\n",
       "      <td>f</td>\n",
       "      <td>d</td>\n",
       "      <td>h</td>\n",
       "      <td>d</td>\n",
       "      <td>n</td>\n",
       "      <td>...</td>\n",
       "      <td>0</td>\n",
       "      <td>0</td>\n",
       "      <td>0</td>\n",
       "      <td>0</td>\n",
       "      <td>0</td>\n",
       "      <td>0</td>\n",
       "      <td>0</td>\n",
       "      <td>0</td>\n",
       "      <td>0</td>\n",
       "      <td>0</td>\n",
       "    </tr>\n",
       "  </tbody>\n",
       "</table>\n",
       "<p>5 rows × 378 columns</p>\n",
       "</div>"
      ],
      "text/plain": [
       "   ID       y  X0 X1  X2 X3 X4 X5 X6 X8  ...  X375  X376  X377  X378  X379  \\\n",
       "0   0  130.81   k  v  at  a  d  u  j  o  ...     0     0     1     0     0   \n",
       "1   6   88.53   k  t  av  e  d  y  l  o  ...     1     0     0     0     0   \n",
       "2   7   76.26  az  w   n  c  d  x  j  x  ...     0     0     0     0     0   \n",
       "3   9   80.62  az  t   n  f  d  x  l  e  ...     0     0     0     0     0   \n",
       "4  13   78.02  az  v   n  f  d  h  d  n  ...     0     0     0     0     0   \n",
       "\n",
       "   X380  X382  X383  X384  X385  \n",
       "0     0     0     0     0     0  \n",
       "1     0     0     0     0     0  \n",
       "2     0     1     0     0     0  \n",
       "3     0     0     0     0     0  \n",
       "4     0     0     0     0     0  \n",
       "\n",
       "[5 rows x 378 columns]"
      ]
     },
     "execution_count": 47,
     "metadata": {},
     "output_type": "execute_result"
    }
   ],
   "source": [
    "df=pd.read_csv(\"D:\\mercedesbenz.csv\")\n",
    "df.head()"
   ]
  },
  {
   "cell_type": "code",
   "execution_count": 53,
   "metadata": {},
   "outputs": [
    {
     "data": {
      "text/plain": [
       "z     360\n",
       "ak    349\n",
       "y     324\n",
       "ay    313\n",
       "t     306\n",
       "x     300\n",
       "o     269\n",
       "f     227\n",
       "n     195\n",
       "w     182\n",
       "j     181\n",
       "az    175\n",
       "aj    151\n",
       "s     106\n",
       "ap    103\n",
       "h      75\n",
       "d      73\n",
       "al     67\n",
       "v      36\n",
       "af     35\n",
       "m      34\n",
       "ai     34\n",
       "e      32\n",
       "ba     27\n",
       "at     25\n",
       "a      21\n",
       "ax     19\n",
       "aq     18\n",
       "am     18\n",
       "i      18\n",
       "u      17\n",
       "l      16\n",
       "aw     16\n",
       "ad     14\n",
       "k      11\n",
       "au     11\n",
       "b      11\n",
       "as     10\n",
       "r      10\n",
       "bc      6\n",
       "ao      4\n",
       "c       3\n",
       "aa      2\n",
       "q       2\n",
       "g       1\n",
       "ac      1\n",
       "ab      1\n",
       "Name: X0, dtype: int64"
      ]
     },
     "execution_count": 53,
     "metadata": {},
     "output_type": "execute_result"
    }
   ],
   "source": [
    "##each item  category counts in specified column\n",
    "df['X0'].value_counts()"
   ]
  },
  {
   "cell_type": "markdown",
   "metadata": {},
   "source": [
    "# Read csv files"
   ]
  },
  {
   "cell_type": "code",
   "execution_count": 62,
   "metadata": {},
   "outputs": [],
   "source": [
    "from io import StringIO,BytesIO"
   ]
  },
  {
   "cell_type": "code",
   "execution_count": 75,
   "metadata": {},
   "outputs": [],
   "source": [
    "data=('col1,col2,col3\\n'\n",
    "     'x,y,z\\n'\n",
    "     'a,g,y\\n'\n",
    "     'h,p,q')"
   ]
  },
  {
   "cell_type": "code",
   "execution_count": 76,
   "metadata": {},
   "outputs": [
    {
     "data": {
      "text/plain": [
       "str"
      ]
     },
     "execution_count": 76,
     "metadata": {},
     "output_type": "execute_result"
    }
   ],
   "source": [
    "type(data)"
   ]
  },
  {
   "cell_type": "code",
   "execution_count": 77,
   "metadata": {},
   "outputs": [
    {
     "data": {
      "text/plain": [
       "<_io.StringIO at 0x2066bde73a8>"
      ]
     },
     "execution_count": 77,
     "metadata": {},
     "output_type": "execute_result"
    }
   ],
   "source": [
    "StringIO()"
   ]
  },
  {
   "cell_type": "code",
   "execution_count": 78,
   "metadata": {},
   "outputs": [
    {
     "data": {
      "text/html": [
       "<div>\n",
       "<style scoped>\n",
       "    .dataframe tbody tr th:only-of-type {\n",
       "        vertical-align: middle;\n",
       "    }\n",
       "\n",
       "    .dataframe tbody tr th {\n",
       "        vertical-align: top;\n",
       "    }\n",
       "\n",
       "    .dataframe thead th {\n",
       "        text-align: right;\n",
       "    }\n",
       "</style>\n",
       "<table border=\"1\" class=\"dataframe\">\n",
       "  <thead>\n",
       "    <tr style=\"text-align: right;\">\n",
       "      <th></th>\n",
       "      <th>col1</th>\n",
       "      <th>col2</th>\n",
       "      <th>col3</th>\n",
       "    </tr>\n",
       "  </thead>\n",
       "  <tbody>\n",
       "    <tr>\n",
       "      <th>0</th>\n",
       "      <td>x</td>\n",
       "      <td>y</td>\n",
       "      <td>z</td>\n",
       "    </tr>\n",
       "    <tr>\n",
       "      <th>1</th>\n",
       "      <td>a</td>\n",
       "      <td>g</td>\n",
       "      <td>y</td>\n",
       "    </tr>\n",
       "    <tr>\n",
       "      <th>2</th>\n",
       "      <td>h</td>\n",
       "      <td>p</td>\n",
       "      <td>q</td>\n",
       "    </tr>\n",
       "  </tbody>\n",
       "</table>\n",
       "</div>"
      ],
      "text/plain": [
       "  col1 col2 col3\n",
       "0    x    y    z\n",
       "1    a    g    y\n",
       "2    h    p    q"
      ]
     },
     "execution_count": 78,
     "metadata": {},
     "output_type": "execute_result"
    }
   ],
   "source": [
    "pd.read_csv(StringIO(data))"
   ]
  },
  {
   "cell_type": "code",
   "execution_count": 81,
   "metadata": {},
   "outputs": [
    {
     "data": {
      "text/html": [
       "<div>\n",
       "<style scoped>\n",
       "    .dataframe tbody tr th:only-of-type {\n",
       "        vertical-align: middle;\n",
       "    }\n",
       "\n",
       "    .dataframe tbody tr th {\n",
       "        vertical-align: top;\n",
       "    }\n",
       "\n",
       "    .dataframe thead th {\n",
       "        text-align: right;\n",
       "    }\n",
       "</style>\n",
       "<table border=\"1\" class=\"dataframe\">\n",
       "  <thead>\n",
       "    <tr style=\"text-align: right;\">\n",
       "      <th></th>\n",
       "      <th>col1</th>\n",
       "      <th>col2</th>\n",
       "      <th>col3</th>\n",
       "    </tr>\n",
       "  </thead>\n",
       "  <tbody>\n",
       "    <tr>\n",
       "      <th>0</th>\n",
       "      <td>x</td>\n",
       "      <td>y</td>\n",
       "      <td>z</td>\n",
       "    </tr>\n",
       "    <tr>\n",
       "      <th>1</th>\n",
       "      <td>a</td>\n",
       "      <td>g</td>\n",
       "      <td>y</td>\n",
       "    </tr>\n",
       "    <tr>\n",
       "      <th>2</th>\n",
       "      <td>h</td>\n",
       "      <td>p</td>\n",
       "      <td>q</td>\n",
       "    </tr>\n",
       "  </tbody>\n",
       "</table>\n",
       "</div>"
      ],
      "text/plain": [
       "  col1 col2 col3\n",
       "0    x    y    z\n",
       "1    a    g    y\n",
       "2    h    p    q"
      ]
     },
     "execution_count": 81,
     "metadata": {},
     "output_type": "execute_result"
    }
   ],
   "source": [
    "df=pd.read_csv(StringIO(data),dtype=str)\n",
    "df"
   ]
  },
  {
   "cell_type": "code",
   "execution_count": 103,
   "metadata": {},
   "outputs": [],
   "source": [
    "datas= ('index,a,b,c\\n'\n",
    "        '4,apple,bat,3\\n'\n",
    "       '8,orrange,cow,9')"
   ]
  },
  {
   "cell_type": "code",
   "execution_count": 104,
   "metadata": {},
   "outputs": [
    {
     "data": {
      "text/plain": [
       "str"
      ]
     },
     "execution_count": 104,
     "metadata": {},
     "output_type": "execute_result"
    }
   ],
   "source": [
    "type(datas)"
   ]
  },
  {
   "cell_type": "code",
   "execution_count": 105,
   "metadata": {},
   "outputs": [
    {
     "data": {
      "text/html": [
       "<div>\n",
       "<style scoped>\n",
       "    .dataframe tbody tr th:only-of-type {\n",
       "        vertical-align: middle;\n",
       "    }\n",
       "\n",
       "    .dataframe tbody tr th {\n",
       "        vertical-align: top;\n",
       "    }\n",
       "\n",
       "    .dataframe thead th {\n",
       "        text-align: right;\n",
       "    }\n",
       "</style>\n",
       "<table border=\"1\" class=\"dataframe\">\n",
       "  <thead>\n",
       "    <tr style=\"text-align: right;\">\n",
       "      <th></th>\n",
       "      <th>index</th>\n",
       "      <th>a</th>\n",
       "      <th>b</th>\n",
       "      <th>c</th>\n",
       "    </tr>\n",
       "  </thead>\n",
       "  <tbody>\n",
       "    <tr>\n",
       "      <th>0</th>\n",
       "      <td>4</td>\n",
       "      <td>apple</td>\n",
       "      <td>bat</td>\n",
       "      <td>3</td>\n",
       "    </tr>\n",
       "    <tr>\n",
       "      <th>1</th>\n",
       "      <td>8</td>\n",
       "      <td>orrange</td>\n",
       "      <td>cow</td>\n",
       "      <td>9</td>\n",
       "    </tr>\n",
       "  </tbody>\n",
       "</table>\n",
       "</div>"
      ],
      "text/plain": [
       "   index        a    b  c\n",
       "0      4    apple  bat  3\n",
       "1      8  orrange  cow  9"
      ]
     },
     "execution_count": 105,
     "metadata": {},
     "output_type": "execute_result"
    }
   ],
   "source": [
    "df=pd.read_csv(StringIO(datas))\n",
    "df"
   ]
  },
  {
   "cell_type": "code",
   "execution_count": 92,
   "metadata": {},
   "outputs": [
    {
     "data": {
      "text/html": [
       "<div>\n",
       "<style scoped>\n",
       "    .dataframe tbody tr th:only-of-type {\n",
       "        vertical-align: middle;\n",
       "    }\n",
       "\n",
       "    .dataframe tbody tr th {\n",
       "        vertical-align: top;\n",
       "    }\n",
       "\n",
       "    .dataframe thead th {\n",
       "        text-align: right;\n",
       "    }\n",
       "</style>\n",
       "<table border=\"1\" class=\"dataframe\">\n",
       "  <thead>\n",
       "    <tr style=\"text-align: right;\">\n",
       "      <th></th>\n",
       "      <th>a</th>\n",
       "      <th>b</th>\n",
       "      <th>c</th>\n",
       "    </tr>\n",
       "    <tr>\n",
       "      <th>index</th>\n",
       "      <th></th>\n",
       "      <th></th>\n",
       "      <th></th>\n",
       "    </tr>\n",
       "  </thead>\n",
       "  <tbody>\n",
       "    <tr>\n",
       "      <th>4</th>\n",
       "      <td>apple</td>\n",
       "      <td>bat</td>\n",
       "      <td>3</td>\n",
       "    </tr>\n",
       "    <tr>\n",
       "      <th>8</th>\n",
       "      <td>orrange</td>\n",
       "      <td>cow</td>\n",
       "      <td>9</td>\n",
       "    </tr>\n",
       "  </tbody>\n",
       "</table>\n",
       "</div>"
      ],
      "text/plain": [
       "             a    b  c\n",
       "index                 \n",
       "4        apple  bat  3\n",
       "8      orrange  cow  9"
      ]
     },
     "execution_count": 92,
     "metadata": {},
     "output_type": "execute_result"
    }
   ],
   "source": [
    "#we can change index as our own column\n",
    "df=pd.read_csv(StringIO(datas),index_col=0)\n",
    "df"
   ]
  },
  {
   "cell_type": "code",
   "execution_count": 116,
   "metadata": {},
   "outputs": [],
   "source": [
    "data= ('a,b\\n\"hello \\\\ \"muthu \\\\\" how are you \" 5')"
   ]
  },
  {
   "cell_type": "code",
   "execution_count": 119,
   "metadata": {},
   "outputs": [
    {
     "data": {
      "text/html": [
       "<div>\n",
       "<style scoped>\n",
       "    .dataframe tbody tr th:only-of-type {\n",
       "        vertical-align: middle;\n",
       "    }\n",
       "\n",
       "    .dataframe tbody tr th {\n",
       "        vertical-align: top;\n",
       "    }\n",
       "\n",
       "    .dataframe thead th {\n",
       "        text-align: right;\n",
       "    }\n",
       "</style>\n",
       "<table border=\"1\" class=\"dataframe\">\n",
       "  <thead>\n",
       "    <tr style=\"text-align: right;\">\n",
       "      <th></th>\n",
       "      <th>a</th>\n",
       "      <th>b</th>\n",
       "    </tr>\n",
       "  </thead>\n",
       "  <tbody>\n",
       "    <tr>\n",
       "      <th>0</th>\n",
       "      <td>hello  muthu \" how are you \" 5</td>\n",
       "      <td>NaN</td>\n",
       "    </tr>\n",
       "  </tbody>\n",
       "</table>\n",
       "</div>"
      ],
      "text/plain": [
       "                                a   b\n",
       "0  hello  muthu \" how are you \" 5 NaN"
      ]
     },
     "execution_count": 119,
     "metadata": {},
     "output_type": "execute_result"
    }
   ],
   "source": [
    "df = pd.read_csv(StringIO(data),escapechar='\\\\')\n",
    "df"
   ]
  },
  {
   "cell_type": "markdown",
   "metadata": {},
   "source": [
    "# Read json files"
   ]
  },
  {
   "cell_type": "code",
   "execution_count": 123,
   "metadata": {},
   "outputs": [],
   "source": [
    "df = pd.read_csv('https://archive.ics.uci.edu/ml/machine-learning-databases/wine/wine.data')"
   ]
  },
  {
   "cell_type": "code",
   "execution_count": 125,
   "metadata": {},
   "outputs": [
    {
     "data": {
      "text/html": [
       "<div>\n",
       "<style scoped>\n",
       "    .dataframe tbody tr th:only-of-type {\n",
       "        vertical-align: middle;\n",
       "    }\n",
       "\n",
       "    .dataframe tbody tr th {\n",
       "        vertical-align: top;\n",
       "    }\n",
       "\n",
       "    .dataframe thead th {\n",
       "        text-align: right;\n",
       "    }\n",
       "</style>\n",
       "<table border=\"1\" class=\"dataframe\">\n",
       "  <thead>\n",
       "    <tr style=\"text-align: right;\">\n",
       "      <th></th>\n",
       "      <th>1</th>\n",
       "      <th>14.23</th>\n",
       "      <th>1.71</th>\n",
       "      <th>2.43</th>\n",
       "      <th>15.6</th>\n",
       "      <th>127</th>\n",
       "      <th>2.8</th>\n",
       "      <th>3.06</th>\n",
       "      <th>.28</th>\n",
       "      <th>2.29</th>\n",
       "      <th>5.64</th>\n",
       "      <th>1.04</th>\n",
       "      <th>3.92</th>\n",
       "      <th>1065</th>\n",
       "    </tr>\n",
       "  </thead>\n",
       "  <tbody>\n",
       "    <tr>\n",
       "      <th>0</th>\n",
       "      <td>1</td>\n",
       "      <td>13.20</td>\n",
       "      <td>1.78</td>\n",
       "      <td>2.14</td>\n",
       "      <td>11.2</td>\n",
       "      <td>100</td>\n",
       "      <td>2.65</td>\n",
       "      <td>2.76</td>\n",
       "      <td>0.26</td>\n",
       "      <td>1.28</td>\n",
       "      <td>4.38</td>\n",
       "      <td>1.05</td>\n",
       "      <td>3.40</td>\n",
       "      <td>1050</td>\n",
       "    </tr>\n",
       "    <tr>\n",
       "      <th>1</th>\n",
       "      <td>1</td>\n",
       "      <td>13.16</td>\n",
       "      <td>2.36</td>\n",
       "      <td>2.67</td>\n",
       "      <td>18.6</td>\n",
       "      <td>101</td>\n",
       "      <td>2.80</td>\n",
       "      <td>3.24</td>\n",
       "      <td>0.30</td>\n",
       "      <td>2.81</td>\n",
       "      <td>5.68</td>\n",
       "      <td>1.03</td>\n",
       "      <td>3.17</td>\n",
       "      <td>1185</td>\n",
       "    </tr>\n",
       "    <tr>\n",
       "      <th>2</th>\n",
       "      <td>1</td>\n",
       "      <td>14.37</td>\n",
       "      <td>1.95</td>\n",
       "      <td>2.50</td>\n",
       "      <td>16.8</td>\n",
       "      <td>113</td>\n",
       "      <td>3.85</td>\n",
       "      <td>3.49</td>\n",
       "      <td>0.24</td>\n",
       "      <td>2.18</td>\n",
       "      <td>7.80</td>\n",
       "      <td>0.86</td>\n",
       "      <td>3.45</td>\n",
       "      <td>1480</td>\n",
       "    </tr>\n",
       "    <tr>\n",
       "      <th>3</th>\n",
       "      <td>1</td>\n",
       "      <td>13.24</td>\n",
       "      <td>2.59</td>\n",
       "      <td>2.87</td>\n",
       "      <td>21.0</td>\n",
       "      <td>118</td>\n",
       "      <td>2.80</td>\n",
       "      <td>2.69</td>\n",
       "      <td>0.39</td>\n",
       "      <td>1.82</td>\n",
       "      <td>4.32</td>\n",
       "      <td>1.04</td>\n",
       "      <td>2.93</td>\n",
       "      <td>735</td>\n",
       "    </tr>\n",
       "    <tr>\n",
       "      <th>4</th>\n",
       "      <td>1</td>\n",
       "      <td>14.20</td>\n",
       "      <td>1.76</td>\n",
       "      <td>2.45</td>\n",
       "      <td>15.2</td>\n",
       "      <td>112</td>\n",
       "      <td>3.27</td>\n",
       "      <td>3.39</td>\n",
       "      <td>0.34</td>\n",
       "      <td>1.97</td>\n",
       "      <td>6.75</td>\n",
       "      <td>1.05</td>\n",
       "      <td>2.85</td>\n",
       "      <td>1450</td>\n",
       "    </tr>\n",
       "  </tbody>\n",
       "</table>\n",
       "</div>"
      ],
      "text/plain": [
       "   1  14.23  1.71  2.43  15.6  127   2.8  3.06   .28  2.29  5.64  1.04  3.92  \\\n",
       "0  1  13.20  1.78  2.14  11.2  100  2.65  2.76  0.26  1.28  4.38  1.05  3.40   \n",
       "1  1  13.16  2.36  2.67  18.6  101  2.80  3.24  0.30  2.81  5.68  1.03  3.17   \n",
       "2  1  14.37  1.95  2.50  16.8  113  3.85  3.49  0.24  2.18  7.80  0.86  3.45   \n",
       "3  1  13.24  2.59  2.87  21.0  118  2.80  2.69  0.39  1.82  4.32  1.04  2.93   \n",
       "4  1  14.20  1.76  2.45  15.2  112  3.27  3.39  0.34  1.97  6.75  1.05  2.85   \n",
       "\n",
       "   1065  \n",
       "0  1050  \n",
       "1  1185  \n",
       "2  1480  \n",
       "3   735  \n",
       "4  1450  "
      ]
     },
     "execution_count": 125,
     "metadata": {},
     "output_type": "execute_result"
    }
   ],
   "source": [
    "df.head()"
   ]
  },
  {
   "cell_type": "code",
   "execution_count": 126,
   "metadata": {},
   "outputs": [],
   "source": [
    "##convert csv file and save it\n",
    "df.to_csv('wine.csv')"
   ]
  },
  {
   "cell_type": "code",
   "execution_count": 127,
   "metadata": {},
   "outputs": [
    {
     "data": {
      "text/plain": [
       "'{\"1\":{\"0\":1,\"1\":1,\"2\":1,\"3\":1,\"4\":1,\"5\":1,\"6\":1,\"7\":1,\"8\":1,\"9\":1,\"10\":1,\"11\":1,\"12\":1,\"13\":1,\"14\":1,\"15\":1,\"16\":1,\"17\":1,\"18\":1,\"19\":1,\"20\":1,\"21\":1,\"22\":1,\"23\":1,\"24\":1,\"25\":1,\"26\":1,\"27\":1,\"28\":1,\"29\":1,\"30\":1,\"31\":1,\"32\":1,\"33\":1,\"34\":1,\"35\":1,\"36\":1,\"37\":1,\"38\":1,\"39\":1,\"40\":1,\"41\":1,\"42\":1,\"43\":1,\"44\":1,\"45\":1,\"46\":1,\"47\":1,\"48\":1,\"49\":1,\"50\":1,\"51\":1,\"52\":1,\"53\":1,\"54\":1,\"55\":1,\"56\":1,\"57\":1,\"58\":2,\"59\":2,\"60\":2,\"61\":2,\"62\":2,\"63\":2,\"64\":2,\"65\":2,\"66\":2,\"67\":2,\"68\":2,\"69\":2,\"70\":2,\"71\":2,\"72\":2,\"73\":2,\"74\":2,\"75\":2,\"76\":2,\"77\":2,\"78\":2,\"79\":2,\"80\":2,\"81\":2,\"82\":2,\"83\":2,\"84\":2,\"85\":2,\"86\":2,\"87\":2,\"88\":2,\"89\":2,\"90\":2,\"91\":2,\"92\":2,\"93\":2,\"94\":2,\"95\":2,\"96\":2,\"97\":2,\"98\":2,\"99\":2,\"100\":2,\"101\":2,\"102\":2,\"103\":2,\"104\":2,\"105\":2,\"106\":2,\"107\":2,\"108\":2,\"109\":2,\"110\":2,\"111\":2,\"112\":2,\"113\":2,\"114\":2,\"115\":2,\"116\":2,\"117\":2,\"118\":2,\"119\":2,\"120\":2,\"121\":2,\"122\":2,\"123\":2,\"124\":2,\"125\":2,\"126\":2,\"127\":2,\"128\":2,\"129\":3,\"130\":3,\"131\":3,\"132\":3,\"133\":3,\"134\":3,\"135\":3,\"136\":3,\"137\":3,\"138\":3,\"139\":3,\"140\":3,\"141\":3,\"142\":3,\"143\":3,\"144\":3,\"145\":3,\"146\":3,\"147\":3,\"148\":3,\"149\":3,\"150\":3,\"151\":3,\"152\":3,\"153\":3,\"154\":3,\"155\":3,\"156\":3,\"157\":3,\"158\":3,\"159\":3,\"160\":3,\"161\":3,\"162\":3,\"163\":3,\"164\":3,\"165\":3,\"166\":3,\"167\":3,\"168\":3,\"169\":3,\"170\":3,\"171\":3,\"172\":3,\"173\":3,\"174\":3,\"175\":3,\"176\":3},\"14.23\":{\"0\":13.2,\"1\":13.16,\"2\":14.37,\"3\":13.24,\"4\":14.2,\"5\":14.39,\"6\":14.06,\"7\":14.83,\"8\":13.86,\"9\":14.1,\"10\":14.12,\"11\":13.75,\"12\":14.75,\"13\":14.38,\"14\":13.63,\"15\":14.3,\"16\":13.83,\"17\":14.19,\"18\":13.64,\"19\":14.06,\"20\":12.93,\"21\":13.71,\"22\":12.85,\"23\":13.5,\"24\":13.05,\"25\":13.39,\"26\":13.3,\"27\":13.87,\"28\":14.02,\"29\":13.73,\"30\":13.58,\"31\":13.68,\"32\":13.76,\"33\":13.51,\"34\":13.48,\"35\":13.28,\"36\":13.05,\"37\":13.07,\"38\":14.22,\"39\":13.56,\"40\":13.41,\"41\":13.88,\"42\":13.24,\"43\":13.05,\"44\":14.21,\"45\":14.38,\"46\":13.9,\"47\":14.1,\"48\":13.94,\"49\":13.05,\"50\":13.83,\"51\":13.82,\"52\":13.77,\"53\":13.74,\"54\":13.56,\"55\":14.22,\"56\":13.29,\"57\":13.72,\"58\":12.37,\"59\":12.33,\"60\":12.64,\"61\":13.67,\"62\":12.37,\"63\":12.17,\"64\":12.37,\"65\":13.11,\"66\":12.37,\"67\":13.34,\"68\":12.21,\"69\":12.29,\"70\":13.86,\"71\":13.49,\"72\":12.99,\"73\":11.96,\"74\":11.66,\"75\":13.03,\"76\":11.84,\"77\":12.33,\"78\":12.7,\"79\":12.0,\"80\":12.72,\"81\":12.08,\"82\":13.05,\"83\":11.84,\"84\":12.67,\"85\":12.16,\"86\":11.65,\"87\":11.64,\"88\":12.08,\"89\":12.08,\"90\":12.0,\"91\":12.69,\"92\":12.29,\"93\":11.62,\"94\":12.47,\"95\":11.81,\"96\":12.29,\"97\":12.37,\"98\":12.29,\"99\":12.08,\"100\":12.6,\"101\":12.34,\"102\":11.82,\"103\":12.51,\"104\":12.42,\"105\":12.25,\"106\":12.72,\"107\":12.22,\"108\":11.61,\"109\":11.46,\"110\":12.52,\"111\":11.76,\"112\":11.41,\"113\":12.08,\"114\":11.03,\"115\":11.82,\"116\":12.42,\"117\":12.77,\"118\":12.0,\"119\":11.45,\"120\":11.56,\"121\":12.42,\"122\":13.05,\"123\":11.87,\"124\":12.07,\"125\":12.43,\"126\":11.79,\"127\":12.37,\"128\":12.04,\"129\":12.86,\"130\":12.88,\"131\":12.81,\"132\":12.7,\"133\":12.51,\"134\":12.6,\"135\":12.25,\"136\":12.53,\"137\":13.49,\"138\":12.84,\"139\":12.93,\"140\":13.36,\"141\":13.52,\"142\":13.62,\"143\":12.25,\"144\":13.16,\"145\":13.88,\"146\":12.87,\"147\":13.32,\"148\":13.08,\"149\":13.5,\"150\":12.79,\"151\":13.11,\"152\":13.23,\"153\":12.58,\"154\":13.17,\"155\":13.84,\"156\":12.45,\"157\":14.34,\"158\":13.48,\"159\":12.36,\"160\":13.69,\"161\":12.85,\"162\":12.96,\"163\":13.78,\"164\":13.73,\"165\":13.45,\"166\":12.82,\"167\":13.58,\"168\":13.4,\"169\":12.2,\"170\":12.77,\"171\":14.16,\"172\":13.71,\"173\":13.4,\"174\":13.27,\"175\":13.17,\"176\":14.13},\"1.71\":{\"0\":1.78,\"1\":2.36,\"2\":1.95,\"3\":2.59,\"4\":1.76,\"5\":1.87,\"6\":2.15,\"7\":1.64,\"8\":1.35,\"9\":2.16,\"10\":1.48,\"11\":1.73,\"12\":1.73,\"13\":1.87,\"14\":1.81,\"15\":1.92,\"16\":1.57,\"17\":1.59,\"18\":3.1,\"19\":1.63,\"20\":3.8,\"21\":1.86,\"22\":1.6,\"23\":1.81,\"24\":2.05,\"25\":1.77,\"26\":1.72,\"27\":1.9,\"28\":1.68,\"29\":1.5,\"30\":1.66,\"31\":1.83,\"32\":1.53,\"33\":1.8,\"34\":1.81,\"35\":1.64,\"36\":1.65,\"37\":1.5,\"38\":3.99,\"39\":1.71,\"40\":3.84,\"41\":1.89,\"42\":3.98,\"43\":1.77,\"44\":4.04,\"45\":3.59,\"46\":1.68,\"47\":2.02,\"48\":1.73,\"49\":1.73,\"50\":1.65,\"51\":1.75,\"52\":1.9,\"53\":1.67,\"54\":1.73,\"55\":1.7,\"56\":1.97,\"57\":1.43,\"58\":0.94,\"59\":1.1,\"60\":1.36,\"61\":1.25,\"62\":1.13,\"63\":1.45,\"64\":1.21,\"65\":1.01,\"66\":1.17,\"67\":0.94,\"68\":1.19,\"69\":1.61,\"70\":1.51,\"71\":1.66,\"72\":1.67,\"73\":1.09,\"74\":1.88,\"75\":0.9,\"76\":2.89,\"77\":0.99,\"78\":3.87,\"79\":0.92,\"80\":1.81,\"81\":1.13,\"82\":3.86,\"83\":0.89,\"84\":0.98,\"85\":1.61,\"86\":1.67,\"87\":2.06,\"88\":1.33,\"89\":1.83,\"90\":1.51,\"91\":1.53,\"92\":2.83,\"93\":1.99,\"94\":1.52,\"95\":2.12,\"96\":1.41,\"97\":1.07,\"98\":3.17,\"99\":2.08,\"100\":1.34,\"101\":2.45,\"102\":1.72,\"103\":1.73,\"104\":2.55,\"105\":1.73,\"106\":1.75,\"107\":1.29,\"108\":1.35,\"109\":3.74,\"110\":2.43,\"111\":2.68,\"112\":0.74,\"113\":1.39,\"114\":1.51,\"115\":1.47,\"116\":1.61,\"117\":3.43,\"118\":3.43,\"119\":2.4,\"120\":2.05,\"121\":4.43,\"122\":5.8,\"123\":4.31,\"124\":2.16,\"125\":1.53,\"126\":2.13,\"127\":1.63,\"128\":4.3,\"129\":1.35,\"130\":2.99,\"131\":2.31,\"132\":3.55,\"133\":1.24,\"134\":2.46,\"135\":4.72,\"136\":5.51,\"137\":3.59,\"138\":2.96,\"139\":2.81,\"140\":2.56,\"141\":3.17,\"142\":4.95,\"143\":3.88,\"144\":3.57,\"145\":5.04,\"146\":4.61,\"147\":3.24,\"148\":3.9,\"149\":3.12,\"150\":2.67,\"151\":1.9,\"152\":3.3,\"153\":1.29,\"154\":5.19,\"155\":4.12,\"156\":3.03,\"157\":1.68,\"158\":1.67,\"159\":3.83,\"160\":3.26,\"161\":3.27,\"162\":3.45,\"163\":2.76,\"164\":4.36,\"165\":3.7,\"166\":3.37,\"167\":2.58,\"168\":4.6,\"169\":3.03,\"170\":2.39,\"171\":2.51,\"172\":5.65,\"173\":3.91,\"174\":4.28,\"175\":2.59,\"176\":4.1},\"2.43\":{\"0\":2.14,\"1\":2.67,\"2\":2.5,\"3\":2.87,\"4\":2.45,\"5\":2.45,\"6\":2.61,\"7\":2.17,\"8\":2.27,\"9\":2.3,\"10\":2.32,\"11\":2.41,\"12\":2.39,\"13\":2.38,\"14\":2.7,\"15\":2.72,\"16\":2.62,\"17\":2.48,\"18\":2.56,\"19\":2.28,\"20\":2.65,\"21\":2.36,\"22\":2.52,\"23\":2.61,\"24\":3.22,\"25\":2.62,\"26\":2.14,\"27\":2.8,\"28\":2.21,\"29\":2.7,\"30\":2.36,\"31\":2.36,\"32\":2.7,\"33\":2.65,\"34\":2.41,\"35\":2.84,\"36\":2.55,\"37\":2.1,\"38\":2.51,\"39\":2.31,\"40\":2.12,\"41\":2.59,\"42\":2.29,\"43\":2.1,\"44\":2.44,\"45\":2.28,\"46\":2.12,\"47\":2.4,\"48\":2.27,\"49\":2.04,\"50\":2.6,\"51\":2.42,\"52\":2.68,\"53\":2.25,\"54\":2.46,\"55\":2.3,\"56\":2.68,\"57\":2.5,\"58\":1.36,\"59\":2.28,\"60\":2.02,\"61\":1.92,\"62\":2.16,\"63\":2.53,\"64\":2.56,\"65\":1.7,\"66\":1.92,\"67\":2.36,\"68\":1.75,\"69\":2.21,\"70\":2.67,\"71\":2.24,\"72\":2.6,\"73\":2.3,\"74\":1.92,\"75\":1.71,\"76\":2.23,\"77\":1.95,\"78\":2.4,\"79\":2.0,\"80\":2.2,\"81\":2.51,\"82\":2.32,\"83\":2.58,\"84\":2.24,\"85\":2.31,\"86\":2.62,\"87\":2.46,\"88\":2.3,\"89\":2.32,\"90\":2.42,\"91\":2.26,\"92\":2.22,\"93\":2.28,\"94\":2.2,\"95\":2.74,\"96\":1.98,\"97\":2.1,\"98\":2.21,\"99\":1.7,\"100\":1.9,\"101\":2.46,\"102\":1.88,\"103\":1.98,\"104\":2.27,\"105\":2.12,\"106\":2.28,\"107\":1.94,\"108\":2.7,\"109\":1.82,\"110\":2.17,\"111\":2.92,\"112\":2.5,\"113\":2.5,\"114\":2.2,\"115\":1.99,\"116\":2.19,\"117\":1.98,\"118\":2.0,\"119\":2.42,\"120\":3.23,\"121\":2.73,\"122\":2.13,\"123\":2.39,\"124\":2.17,\"125\":2.29,\"126\":2.78,\"127\":2.3,\"128\":2.38,\"129\":2.32,\"130\":2.4,\"131\":2.4,\"132\":2.36,\"133\":2.25,\"134\":2.2,\"135\":2.54,\"136\":2.64,\"137\":2.19,\"138\":2.61,\"139\":2.7,\"140\":2.35,\"141\":2.72,\"142\":2.35,\"143\":2.2,\"144\":2.15,\"145\":2.23,\"146\":2.48,\"147\":2.38,\"148\":2.36,\"149\":2.62,\"150\":2.48,\"151\":2.75,\"152\":2.28,\"153\":2.1,\"154\":2.32,\"155\":2.38,\"156\":2.64,\"157\":2.7,\"158\":2.64,\"159\":2.38,\"160\":2.54,\"161\":2.58,\"162\":2.35,\"163\":2.3,\"164\":2.26,\"165\":2.6,\"166\":2.3,\"167\":2.69,\"168\":2.86,\"169\":2.32,\"170\":2.28,\"171\":2.48,\"172\":2.45,\"173\":2.48,\"174\":2.26,\"175\":2.37,\"176\":2.74},\"15.6\":{\"0\":11.2,\"1\":18.6,\"2\":16.8,\"3\":21.0,\"4\":15.2,\"5\":14.6,\"6\":17.6,\"7\":14.0,\"8\":16.0,\"9\":18.0,\"10\":16.8,\"11\":16.0,\"12\":11.4,\"13\":12.0,\"14\":17.2,\"15\":20.0,\"16\":20.0,\"17\":16.5,\"18\":15.2,\"19\":16.0,\"20\":18.6,\"21\":16.6,\"22\":17.8,\"23\":20.0,\"24\":25.0,\"25\":16.1,\"26\":17.0,\"27\":19.4,\"28\":16.0,\"29\":22.5,\"30\":19.1,\"31\":17.2,\"32\":19.5,\"33\":19.0,\"34\":20.5,\"35\":15.5,\"36\":18.0,\"37\":15.5,\"38\":13.2,\"39\":16.2,\"40\":18.8,\"41\":15.0,\"42\":17.5,\"43\":17.0,\"44\":18.9,\"45\":16.0,\"46\":16.0,\"47\":18.8,\"48\":17.4,\"49\":12.4,\"50\":17.2,\"51\":14.0,\"52\":17.1,\"53\":16.4,\"54\":20.5,\"55\":16.3,\"56\":16.8,\"57\":16.7,\"58\":10.6,\"59\":16.0,\"60\":16.8,\"61\":18.0,\"62\":19.0,\"63\":19.0,\"64\":18.1,\"65\":15.0,\"66\":19.6,\"67\":17.0,\"68\":16.8,\"69\":20.4,\"70\":25.0,\"71\":24.0,\"72\":30.0,\"73\":21.0,\"74\":16.0,\"75\":16.0,\"76\":18.0,\"77\":14.8,\"78\":23.0,\"79\":19.0,\"80\":18.8,\"81\":24.0,\"82\":22.5,\"83\":18.0,\"84\":18.0,\"85\":22.8,\"86\":26.0,\"87\":21.6,\"88\":23.6,\"89\":18.5,\"90\":22.0,\"91\":20.7,\"92\":18.0,\"93\":18.0,\"94\":19.0,\"95\":21.5,\"96\":16.0,\"97\":18.5,\"98\":18.0,\"99\":17.5,\"100\":18.5,\"101\":21.0,\"102\":19.5,\"103\":20.5,\"104\":22.0,\"105\":19.0,\"106\":22.5,\"107\":19.0,\"108\":20.0,\"109\":19.5,\"110\":21.0,\"111\":20.0,\"112\":21.0,\"113\":22.5,\"114\":21.5,\"115\":20.8,\"116\":22.5,\"117\":16.0,\"118\":19.0,\"119\":20.0,\"120\":28.5,\"121\":26.5,\"122\":21.5,\"123\":21.0,\"124\":21.0,\"125\":21.5,\"126\":28.5,\"127\":24.5,\"128\":22.0,\"129\":18.0,\"130\":20.0,\"131\":24.0,\"132\":21.5,\"133\":17.5,\"134\":18.5,\"135\":21.0,\"136\":25.0,\"137\":19.5,\"138\":24.0,\"139\":21.0,\"140\":20.0,\"141\":23.5,\"142\":20.0,\"143\":18.5,\"144\":21.0,\"145\":20.0,\"146\":21.5,\"147\":21.5,\"148\":21.5,\"149\":24.0,\"150\":22.0,\"151\":25.5,\"152\":18.5,\"153\":20.0,\"154\":22.0,\"155\":19.5,\"156\":27.0,\"157\":25.0,\"158\":22.5,\"159\":21.0,\"160\":20.0,\"161\":22.0,\"162\":18.5,\"163\":22.0,\"164\":22.5,\"165\":23.0,\"166\":19.5,\"167\":24.5,\"168\":25.0,\"169\":19.0,\"170\":19.5,\"171\":20.0,\"172\":20.5,\"173\":23.0,\"174\":20.0,\"175\":20.0,\"176\":24.5},\"127\":{\"0\":100,\"1\":101,\"2\":113,\"3\":118,\"4\":112,\"5\":96,\"6\":121,\"7\":97,\"8\":98,\"9\":105,\"10\":95,\"11\":89,\"12\":91,\"13\":102,\"14\":112,\"15\":120,\"16\":115,\"17\":108,\"18\":116,\"19\":126,\"20\":102,\"21\":101,\"22\":95,\"23\":96,\"24\":124,\"25\":93,\"26\":94,\"27\":107,\"28\":96,\"29\":101,\"30\":106,\"31\":104,\"32\":132,\"33\":110,\"34\":100,\"35\":110,\"36\":98,\"37\":98,\"38\":128,\"39\":117,\"40\":90,\"41\":101,\"42\":103,\"43\":107,\"44\":111,\"45\":102,\"46\":101,\"47\":103,\"48\":108,\"49\":92,\"50\":94,\"51\":111,\"52\":115,\"53\":118,\"54\":116,\"55\":118,\"56\":102,\"57\":108,\"58\":88,\"59\":101,\"60\":100,\"61\":94,\"62\":87,\"63\":104,\"64\":98,\"65\":78,\"66\":78,\"67\":110,\"68\":151,\"69\":103,\"70\":86,\"71\":87,\"72\":139,\"73\":101,\"74\":97,\"75\":86,\"76\":112,\"77\":136,\"78\":101,\"79\":86,\"80\":86,\"81\":78,\"82\":85,\"83\":94,\"84\":99,\"85\":90,\"86\":88,\"87\":84,\"88\":70,\"89\":81,\"90\":86,\"91\":80,\"92\":88,\"93\":98,\"94\":162,\"95\":134,\"96\":85,\"97\":88,\"98\":88,\"99\":97,\"100\":88,\"101\":98,\"102\":86,\"103\":85,\"104\":90,\"105\":80,\"106\":84,\"107\":92,\"108\":94,\"109\":107,\"110\":88,\"111\":103,\"112\":88,\"113\":84,\"114\":85,\"115\":86,\"116\":108,\"117\":80,\"118\":87,\"119\":96,\"120\":119,\"121\":102,\"122\":86,\"123\":82,\"124\":85,\"125\":86,\"126\":92,\"127\":88,\"128\":80,\"129\":122,\"130\":104,\"131\":98,\"132\":106,\"133\":85,\"134\":94,\"135\":89,\"136\":96,\"137\":88,\"138\":101,\"139\":96,\"140\":89,\"141\":97,\"142\":92,\"143\":112,\"144\":102,\"145\":80,\"146\":86,\"147\":92,\"148\":113,\"149\":123,\"150\":112,\"151\":116,\"152\":98,\"153\":103,\"154\":93,\"155\":89,\"156\":97,\"157\":98,\"158\":89,\"159\":88,\"160\":107,\"161\":106,\"162\":106,\"163\":90,\"164\":88,\"165\":111,\"166\":88,\"167\":105,\"168\":112,\"169\":96,\"170\":86,\"171\":91,\"172\":95,\"173\":102,\"174\":120,\"175\":120,\"176\":96},\"2.8\":{\"0\":2.65,\"1\":2.8,\"2\":3.85,\"3\":2.8,\"4\":3.27,\"5\":2.5,\"6\":2.6,\"7\":2.8,\"8\":2.98,\"9\":2.95,\"10\":2.2,\"11\":2.6,\"12\":3.1,\"13\":3.3,\"14\":2.85,\"15\":2.8,\"16\":2.95,\"17\":3.3,\"18\":2.7,\"19\":3.0,\"20\":2.41,\"21\":2.61,\"22\":2.48,\"23\":2.53,\"24\":2.63,\"25\":2.85,\"26\":2.4,\"27\":2.95,\"28\":2.65,\"29\":3.0,\"30\":2.86,\"31\":2.42,\"32\":2.95,\"33\":2.35,\"34\":2.7,\"35\":2.6,\"36\":2.45,\"37\":2.4,\"38\":3.0,\"39\":3.15,\"40\":2.45,\"41\":3.25,\"42\":2.64,\"43\":3.0,\"44\":2.85,\"45\":3.25,\"46\":3.1,\"47\":2.75,\"48\":2.88,\"49\":2.72,\"50\":2.45,\"51\":3.88,\"52\":3.0,\"53\":2.6,\"54\":2.96,\"55\":3.2,\"56\":3.0,\"57\":3.4,\"58\":1.98,\"59\":2.05,\"60\":2.02,\"61\":2.1,\"62\":3.5,\"63\":1.89,\"64\":2.42,\"65\":2.98,\"66\":2.11,\"67\":2.53,\"68\":1.85,\"69\":1.1,\"70\":2.95,\"71\":1.88,\"72\":3.3,\"73\":3.38,\"74\":1.61,\"75\":1.95,\"76\":1.72,\"77\":1.9,\"78\":2.83,\"79\":2.42,\"80\":2.2,\"81\":2.0,\"82\":1.65,\"83\":2.2,\"84\":2.2,\"85\":1.78,\"86\":1.92,\"87\":1.95,\"88\":2.2,\"89\":1.6,\"90\":1.45,\"91\":1.38,\"92\":2.45,\"93\":3.02,\"94\":2.5,\"95\":1.6,\"96\":2.55,\"97\":3.52,\"98\":2.85,\"99\":2.23,\"100\":1.45,\"101\":2.56,\"102\":2.5,\"103\":2.2,\"104\":1.68,\"105\":1.65,\"106\":1.38,\"107\":2.36,\"108\":2.74,\"109\":3.18,\"110\":2.55,\"111\":1.75,\"112\":2.48,\"113\":2.56,\"114\":2.46,\"115\":1.98,\"116\":2.0,\"117\":1.63,\"118\":2.0,\"119\":2.9,\"120\":3.18,\"121\":2.2,\"122\":2.62,\"123\":2.86,\"124\":2.6,\"125\":2.74,\"126\":2.13,\"127\":2.22,\"128\":2.1,\"129\":1.51,\"130\":1.3,\"131\":1.15,\"132\":1.7,\"133\":2.0,\"134\":1.62,\"135\":1.38,\"136\":1.79,\"137\":1.62,\"138\":2.32,\"139\":1.54,\"140\":1.4,\"141\":1.55,\"142\":2.0,\"143\":1.38,\"144\":1.5,\"145\":0.98,\"146\":1.7,\"147\":1.93,\"148\":1.41,\"149\":1.4,\"150\":1.48,\"151\":2.2,\"152\":1.8,\"153\":1.48,\"154\":1.74,\"155\":1.8,\"156\":1.9,\"157\":2.8,\"158\":2.6,\"159\":2.3,\"160\":1.83,\"161\":1.65,\"162\":1.39,\"163\":1.35,\"164\":1.28,\"165\":1.7,\"166\":1.48,\"167\":1.55,\"168\":1.98,\"169\":1.25,\"170\":1.39,\"171\":1.68,\"172\":1.68,\"173\":1.8,\"174\":1.59,\"175\":1.65,\"176\":2.05},\"3.06\":{\"0\":2.76,\"1\":3.24,\"2\":3.49,\"3\":2.69,\"4\":3.39,\"5\":2.52,\"6\":2.51,\"7\":2.98,\"8\":3.15,\"9\":3.32,\"10\":2.43,\"11\":2.76,\"12\":3.69,\"13\":3.64,\"14\":2.91,\"15\":3.14,\"16\":3.4,\"17\":3.93,\"18\":3.03,\"19\":3.17,\"20\":2.41,\"21\":2.88,\"22\":2.37,\"23\":2.61,\"24\":2.68,\"25\":2.94,\"26\":2.19,\"27\":2.97,\"28\":2.33,\"29\":3.25,\"30\":3.19,\"31\":2.69,\"32\":2.74,\"33\":2.53,\"34\":2.98,\"35\":2.68,\"36\":2.43,\"37\":2.64,\"38\":3.04,\"39\":3.29,\"40\":2.68,\"41\":3.56,\"42\":2.63,\"43\":3.0,\"44\":2.65,\"45\":3.17,\"46\":3.39,\"47\":2.92,\"48\":3.54,\"49\":3.27,\"50\":2.99,\"51\":3.74,\"52\":2.79,\"53\":2.9,\"54\":2.78,\"55\":3.0,\"56\":3.23,\"57\":3.67,\"58\":0.57,\"59\":1.09,\"60\":1.41,\"61\":1.79,\"62\":3.1,\"63\":1.75,\"64\":2.65,\"65\":3.18,\"66\":2.0,\"67\":1.3,\"68\":1.28,\"69\":1.02,\"70\":2.86,\"71\":1.84,\"72\":2.89,\"73\":2.14,\"74\":1.57,\"75\":2.03,\"76\":1.32,\"77\":1.85,\"78\":2.55,\"79\":2.26,\"80\":2.53,\"81\":1.58,\"82\":1.59,\"83\":2.21,\"84\":1.94,\"85\":1.69,\"86\":1.61,\"87\":1.69,\"88\":1.59,\"89\":1.5,\"90\":1.25,\"91\":1.46,\"92\":2.25,\"93\":2.26,\"94\":2.27,\"95\":0.99,\"96\":2.5,\"97\":3.75,\"98\":2.99,\"99\":2.17,\"100\":1.36,\"101\":2.11,\"102\":1.64,\"103\":1.92,\"104\":1.84,\"105\":2.03,\"106\":1.76,\"107\":2.04,\"108\":2.92,\"109\":2.58,\"110\":2.27,\"111\":2.03,\"112\":2.01,\"113\":2.29,\"114\":2.17,\"115\":1.6,\"116\":2.09,\"117\":1.25,\"118\":1.64,\"119\":2.79,\"120\":5.08,\"121\":2.13,\"122\":2.65,\"123\":3.03,\"124\":2.65,\"125\":3.15,\"126\":2.24,\"127\":2.45,\"128\":1.75,\"129\":1.25,\"130\":1.22,\"131\":1.09,\"132\":1.2,\"133\":0.58,\"134\":0.66,\"135\":0.47,\"136\":0.6,\"137\":0.48,\"138\":0.6,\"139\":0.5,\"140\":0.5,\"141\":0.52,\"142\":0.8,\"143\":0.78,\"144\":0.55,\"145\":0.34,\"146\":0.65,\"147\":0.76,\"148\":1.39,\"149\":1.57,\"150\":1.36,\"151\":1.28,\"152\":0.83,\"153\":0.58,\"154\":0.63,\"155\":0.83,\"156\":0.58,\"157\":1.31,\"158\":1.1,\"159\":0.92,\"160\":0.56,\"161\":0.6,\"162\":0.7,\"163\":0.68,\"164\":0.47,\"165\":0.92,\"166\":0.66,\"167\":0.84,\"168\":0.96,\"169\":0.49,\"170\":0.51,\"171\":0.7,\"172\":0.61,\"173\":0.75,\"174\":0.69,\"175\":0.68,\"176\":0.76},\".28\":{\"0\":0.26,\"1\":0.3,\"2\":0.24,\"3\":0.39,\"4\":0.34,\"5\":0.3,\"6\":0.31,\"7\":0.29,\"8\":0.22,\"9\":0.22,\"10\":0.26,\"11\":0.29,\"12\":0.43,\"13\":0.29,\"14\":0.3,\"15\":0.33,\"16\":0.4,\"17\":0.32,\"18\":0.17,\"19\":0.24,\"20\":0.25,\"21\":0.27,\"22\":0.26,\"23\":0.28,\"24\":0.47,\"25\":0.34,\"26\":0.27,\"27\":0.37,\"28\":0.26,\"29\":0.29,\"30\":0.22,\"31\":0.42,\"32\":0.5,\"33\":0.29,\"34\":0.26,\"35\":0.34,\"36\":0.29,\"37\":0.28,\"38\":0.2,\"39\":0.34,\"40\":0.27,\"41\":0.17,\"42\":0.32,\"43\":0.28,\"44\":0.3,\"45\":0.27,\"46\":0.21,\"47\":0.32,\"48\":0.32,\"49\":0.17,\"50\":0.22,\"51\":0.32,\"52\":0.39,\"53\":0.21,\"54\":0.2,\"55\":0.26,\"56\":0.31,\"57\":0.19,\"58\":0.28,\"59\":0.63,\"60\":0.53,\"61\":0.32,\"62\":0.19,\"63\":0.45,\"64\":0.37,\"65\":0.26,\"66\":0.27,\"67\":0.55,\"68\":0.14,\"69\":0.37,\"70\":0.21,\"71\":0.27,\"72\":0.21,\"73\":0.13,\"74\":0.34,\"75\":0.24,\"76\":0.43,\"77\":0.35,\"78\":0.43,\"79\":0.3,\"80\":0.26,\"81\":0.4,\"82\":0.61,\"83\":0.22,\"84\":0.3,\"85\":0.43,\"86\":0.4,\"87\":0.48,\"88\":0.42,\"89\":0.52,\"90\":0.5,\"91\":0.58,\"92\":0.25,\"93\":0.17,\"94\":0.32,\"95\":0.14,\"96\":0.29,\"97\":0.24,\"98\":0.45,\"99\":0.26,\"100\":0.29,\"101\":0.34,\"102\":0.37,\"103\":0.32,\"104\":0.66,\"105\":0.37,\"106\":0.48,\"107\":0.39,\"108\":0.29,\"109\":0.24,\"110\":0.26,\"111\":0.6,\"112\":0.42,\"113\":0.43,\"114\":0.52,\"115\":0.3,\"116\":0.34,\"117\":0.43,\"118\":0.37,\"119\":0.32,\"120\":0.47,\"121\":0.43,\"122\":0.3,\"123\":0.21,\"124\":0.37,\"125\":0.39,\"126\":0.58,\"127\":0.4,\"128\":0.42,\"129\":0.21,\"130\":0.24,\"131\":0.27,\"132\":0.17,\"133\":0.6,\"134\":0.63,\"135\":0.53,\"136\":0.63,\"137\":0.58,\"138\":0.53,\"139\":0.53,\"140\":0.37,\"141\":0.5,\"142\":0.47,\"143\":0.29,\"144\":0.43,\"145\":0.4,\"146\":0.47,\"147\":0.45,\"148\":0.34,\"149\":0.22,\"150\":0.24,\"151\":0.26,\"152\":0.61,\"153\":0.53,\"154\":0.61,\"155\":0.48,\"156\":0.63,\"157\":0.53,\"158\":0.52,\"159\":0.5,\"160\":0.5,\"161\":0.6,\"162\":0.4,\"163\":0.41,\"164\":0.52,\"165\":0.43,\"166\":0.4,\"167\":0.39,\"168\":0.27,\"169\":0.4,\"170\":0.48,\"171\":0.44,\"172\":0.52,\"173\":0.43,\"174\":0.43,\"175\":0.53,\"176\":0.56},\"2.29\":{\"0\":1.28,\"1\":2.81,\"2\":2.18,\"3\":1.82,\"4\":1.97,\"5\":1.98,\"6\":1.25,\"7\":1.98,\"8\":1.85,\"9\":2.38,\"10\":1.57,\"11\":1.81,\"12\":2.81,\"13\":2.96,\"14\":1.46,\"15\":1.97,\"16\":1.72,\"17\":1.86,\"18\":1.66,\"19\":2.1,\"20\":1.98,\"21\":1.69,\"22\":1.46,\"23\":1.66,\"24\":1.92,\"25\":1.45,\"26\":1.35,\"27\":1.76,\"28\":1.98,\"29\":2.38,\"30\":1.95,\"31\":1.97,\"32\":1.35,\"33\":1.54,\"34\":1.86,\"35\":1.36,\"36\":1.44,\"37\":1.37,\"38\":2.08,\"39\":2.34,\"40\":1.48,\"41\":1.7,\"42\":1.66,\"43\":2.03,\"44\":1.25,\"45\":2.19,\"46\":2.14,\"47\":2.38,\"48\":2.08,\"49\":2.91,\"50\":2.29,\"51\":1.87,\"52\":1.68,\"53\":1.62,\"54\":2.45,\"55\":2.03,\"56\":1.66,\"57\":2.04,\"58\":0.42,\"59\":0.41,\"60\":0.62,\"61\":0.73,\"62\":1.87,\"63\":1.03,\"64\":2.08,\"65\":2.28,\"66\":1.04,\"67\":0.42,\"68\":2.5,\"69\":1.46,\"70\":1.87,\"71\":1.03,\"72\":1.96,\"73\":1.65,\"74\":1.15,\"75\":1.46,\"76\":0.95,\"77\":2.76,\"78\":1.95,\"79\":1.43,\"80\":1.77,\"81\":1.4,\"82\":1.62,\"83\":2.35,\"84\":1.46,\"85\":1.56,\"86\":1.34,\"87\":1.35,\"88\":1.38,\"89\":1.64,\"90\":1.63,\"91\":1.62,\"92\":1.99,\"93\":1.35,\"94\":3.28,\"95\":1.56,\"96\":1.77,\"97\":1.95,\"98\":2.81,\"99\":1.4,\"100\":1.35,\"101\":1.31,\"102\":1.42,\"103\":1.48,\"104\":1.42,\"105\":1.63,\"106\":1.63,\"107\":2.08,\"108\":2.49,\"109\":3.58,\"110\":1.22,\"111\":1.05,\"112\":1.44,\"113\":1.04,\"114\":2.01,\"115\":1.53,\"116\":1.61,\"117\":0.83,\"118\":1.87,\"119\":1.83,\"120\":1.87,\"121\":1.71,\"122\":2.01,\"123\":2.91,\"124\":1.35,\"125\":1.77,\"126\":1.76,\"127\":1.9,\"128\":1.35,\"129\":0.94,\"130\":0.83,\"131\":0.83,\"132\":0.84,\"133\":1.25,\"134\":0.94,\"135\":0.8,\"136\":1.1,\"137\":0.88,\"138\":0.81,\"139\":0.75,\"140\":0.64,\"141\":0.55,\"142\":1.02,\"143\":1.14,\"144\":1.3,\"145\":0.68,\"146\":0.86,\"147\":1.25,\"148\":1.14,\"149\":1.25,\"150\":1.26,\"151\":1.56,\"152\":1.87,\"153\":1.4,\"154\":1.55,\"155\":1.56,\"156\":1.14,\"157\":2.7,\"158\":2.29,\"159\":1.04,\"160\":0.8,\"161\":0.96,\"162\":0.94,\"163\":1.03,\"164\":1.15,\"165\":1.46,\"166\":0.97,\"167\":1.54,\"168\":1.11,\"169\":0.73,\"170\":0.64,\"171\":1.24,\"172\":1.06,\"173\":1.41,\"174\":1.35,\"175\":1.46,\"176\":1.35},\"5.64\":{\"0\":4.38,\"1\":5.68,\"2\":7.8,\"3\":4.32,\"4\":6.75,\"5\":5.25,\"6\":5.05,\"7\":5.2,\"8\":7.22,\"9\":5.75,\"10\":5.0,\"11\":5.6,\"12\":5.4,\"13\":7.5,\"14\":7.3,\"15\":6.2,\"16\":6.6,\"17\":8.7,\"18\":5.1,\"19\":5.65,\"20\":4.5,\"21\":3.8,\"22\":3.93,\"23\":3.52,\"24\":3.58,\"25\":4.8,\"26\":3.95,\"27\":4.5,\"28\":4.7,\"29\":5.7,\"30\":6.9,\"31\":3.84,\"32\":5.4,\"33\":4.2,\"34\":5.1,\"35\":4.6,\"36\":4.25,\"37\":3.7,\"38\":5.1,\"39\":6.13,\"40\":4.28,\"41\":5.43,\"42\":4.36,\"43\":5.04,\"44\":5.24,\"45\":4.9,\"46\":6.1,\"47\":6.2,\"48\":8.9,\"49\":7.2,\"50\":5.6,\"51\":7.05,\"52\":6.3,\"53\":5.85,\"54\":6.25,\"55\":6.38,\"56\":6.0,\"57\":6.8,\"58\":1.95,\"59\":3.27,\"60\":5.75,\"61\":3.8,\"62\":4.45,\"63\":2.95,\"64\":4.6,\"65\":5.3,\"66\":4.68,\"67\":3.17,\"68\":2.85,\"69\":3.05,\"70\":3.38,\"71\":3.74,\"72\":3.35,\"73\":3.21,\"74\":3.8,\"75\":4.6,\"76\":2.65,\"77\":3.4,\"78\":2.57,\"79\":2.5,\"80\":3.9,\"81\":2.2,\"82\":4.8,\"83\":3.05,\"84\":2.62,\"85\":2.45,\"86\":2.6,\"87\":2.8,\"88\":1.74,\"89\":2.4,\"90\":3.6,\"91\":3.05,\"92\":2.15,\"93\":3.25,\"94\":2.6,\"95\":2.5,\"96\":2.9,\"97\":4.5,\"98\":2.3,\"99\":3.3,\"100\":2.45,\"101\":2.8,\"102\":2.06,\"103\":2.94,\"104\":2.7,\"105\":3.4,\"106\":3.3,\"107\":2.7,\"108\":2.65,\"109\":2.9,\"110\":2.0,\"111\":3.8,\"112\":3.08,\"113\":2.9,\"114\":1.9,\"115\":1.95,\"116\":2.06,\"117\":3.4,\"118\":1.28,\"119\":3.25,\"120\":6.0,\"121\":2.08,\"122\":2.6,\"123\":2.8,\"124\":2.76,\"125\":3.94,\"126\":3.0,\"127\":2.12,\"128\":2.6,\"129\":4.1,\"130\":5.4,\"131\":5.7,\"132\":5.0,\"133\":5.45,\"134\":7.1,\"135\":3.85,\"136\":5.0,\"137\":5.7,\"138\":4.92,\"139\":4.6,\"140\":5.6,\"141\":4.35,\"142\":4.4,\"143\":8.21,\"144\":4.0,\"145\":4.9,\"146\":7.65,\"147\":8.42,\"148\":9.4,\"149\":8.6,\"150\":10.8,\"151\":7.1,\"152\":10.52,\"153\":7.6,\"154\":7.9,\"155\":9.01,\"156\":7.5,\"157\":13.0,\"158\":11.75,\"159\":7.65,\"160\":5.88,\"161\":5.58,\"162\":5.28,\"163\":9.58,\"164\":6.62,\"165\":10.68,\"166\":10.26,\"167\":8.66,\"168\":8.5,\"169\":5.5,\"170\":9.899999,\"171\":9.7,\"172\":7.7,\"173\":7.3,\"174\":10.2,\"175\":9.3,\"176\":9.2},\"1.04\":{\"0\":1.05,\"1\":1.03,\"2\":0.86,\"3\":1.04,\"4\":1.05,\"5\":1.02,\"6\":1.06,\"7\":1.08,\"8\":1.01,\"9\":1.25,\"10\":1.17,\"11\":1.15,\"12\":1.25,\"13\":1.2,\"14\":1.28,\"15\":1.07,\"16\":1.13,\"17\":1.23,\"18\":0.96,\"19\":1.09,\"20\":1.03,\"21\":1.11,\"22\":1.09,\"23\":1.12,\"24\":1.13,\"25\":0.92,\"26\":1.02,\"27\":1.25,\"28\":1.04,\"29\":1.19,\"30\":1.09,\"31\":1.23,\"32\":1.25,\"33\":1.1,\"34\":1.04,\"35\":1.09,\"36\":1.12,\"37\":1.18,\"38\":0.89,\"39\":0.95,\"40\":0.91,\"41\":0.88,\"42\":0.82,\"43\":0.88,\"44\":0.87,\"45\":1.04,\"46\":0.91,\"47\":1.07,\"48\":1.12,\"49\":1.12,\"50\":1.24,\"51\":1.01,\"52\":1.13,\"53\":0.92,\"54\":0.98,\"55\":0.94,\"56\":1.07,\"57\":0.89,\"58\":1.05,\"59\":1.25,\"60\":0.98,\"61\":1.23,\"62\":1.22,\"63\":1.45,\"64\":1.19,\"65\":1.12,\"66\":1.12,\"67\":1.02,\"68\":1.28,\"69\":0.906,\"70\":1.36,\"71\":0.98,\"72\":1.31,\"73\":0.99,\"74\":1.23,\"75\":1.19,\"76\":0.96,\"77\":1.06,\"78\":1.19,\"79\":1.38,\"80\":1.16,\"81\":1.31,\"82\":0.84,\"83\":0.79,\"84\":1.23,\"85\":1.33,\"86\":1.36,\"87\":1.0,\"88\":1.07,\"89\":1.08,\"90\":1.05,\"91\":0.96,\"92\":1.15,\"93\":1.16,\"94\":1.16,\"95\":0.95,\"96\":1.23,\"97\":1.04,\"98\":1.42,\"99\":1.27,\"100\":1.04,\"101\":0.8,\"102\":0.94,\"103\":1.04,\"104\":0.86,\"105\":1.0,\"106\":0.88,\"107\":0.86,\"108\":0.96,\"109\":0.75,\"110\":0.9,\"111\":1.23,\"112\":1.1,\"113\":0.93,\"114\":1.71,\"115\":0.95,\"116\":1.06,\"117\":0.7,\"118\":0.93,\"119\":0.8,\"120\":0.93,\"121\":0.92,\"122\":0.73,\"123\":0.75,\"124\":0.86,\"125\":0.69,\"126\":0.97,\"127\":0.89,\"128\":0.79,\"129\":0.76,\"130\":0.74,\"131\":0.66,\"132\":0.78,\"133\":0.75,\"134\":0.73,\"135\":0.75,\"136\":0.82,\"137\":0.81,\"138\":0.89,\"139\":0.77,\"140\":0.7,\"141\":0.89,\"142\":0.91,\"143\":0.65,\"144\":0.6,\"145\":0.58,\"146\":0.54,\"147\":0.55,\"148\":0.57,\"149\":0.59,\"150\":0.48,\"151\":0.61,\"152\":0.56,\"153\":0.58,\"154\":0.6,\"155\":0.57,\"156\":0.67,\"157\":0.57,\"158\":0.57,\"159\":0.56,\"160\":0.96,\"161\":0.87,\"162\":0.68,\"163\":0.7,\"164\":0.78,\"165\":0.85,\"166\":0.72,\"167\":0.74,\"168\":0.67,\"169\":0.66,\"170\":0.57,\"171\":0.62,\"172\":0.64,\"173\":0.7,\"174\":0.59,\"175\":0.6,\"176\":0.61},\"3.92\":{\"0\":3.4,\"1\":3.17,\"2\":3.45,\"3\":2.93,\"4\":2.85,\"5\":3.58,\"6\":3.58,\"7\":2.85,\"8\":3.55,\"9\":3.17,\"10\":2.82,\"11\":2.9,\"12\":2.73,\"13\":3.0,\"14\":2.88,\"15\":2.65,\"16\":2.57,\"17\":2.82,\"18\":3.36,\"19\":3.71,\"20\":3.52,\"21\":4.0,\"22\":3.63,\"23\":3.82,\"24\":3.2,\"25\":3.22,\"26\":2.77,\"27\":3.4,\"28\":3.59,\"29\":2.71,\"30\":2.88,\"31\":2.87,\"32\":3.0,\"33\":2.87,\"34\":3.47,\"35\":2.78,\"36\":2.51,\"37\":2.69,\"38\":3.53,\"39\":3.38,\"40\":3.0,\"41\":3.56,\"42\":3.0,\"43\":3.35,\"44\":3.33,\"45\":3.44,\"46\":3.33,\"47\":2.75,\"48\":3.1,\"49\":2.91,\"50\":3.37,\"51\":3.26,\"52\":2.93,\"53\":3.2,\"54\":3.03,\"55\":3.31,\"56\":2.84,\"57\":2.87,\"58\":1.82,\"59\":1.67,\"60\":1.59,\"61\":2.46,\"62\":2.87,\"63\":2.23,\"64\":2.3,\"65\":3.18,\"66\":3.48,\"67\":1.93,\"68\":3.07,\"69\":1.82,\"70\":3.16,\"71\":2.78,\"72\":3.5,\"73\":3.13,\"74\":2.14,\"75\":2.48,\"76\":2.52,\"77\":2.31,\"78\":3.13,\"79\":3.12,\"80\":3.14,\"81\":2.72,\"82\":2.01,\"83\":3.08,\"84\":3.16,\"85\":2.26,\"86\":3.21,\"87\":2.75,\"88\":3.21,\"89\":2.27,\"90\":2.65,\"91\":2.06,\"92\":3.3,\"93\":2.96,\"94\":2.63,\"95\":2.26,\"96\":2.74,\"97\":2.77,\"98\":2.83,\"99\":2.96,\"100\":2.77,\"101\":3.38,\"102\":2.44,\"103\":3.57,\"104\":3.3,\"105\":3.17,\"106\":2.42,\"107\":3.02,\"108\":3.26,\"109\":2.81,\"110\":2.78,\"111\":2.5,\"112\":2.31,\"113\":3.19,\"114\":2.87,\"115\":3.33,\"116\":2.96,\"117\":2.12,\"118\":3.05,\"119\":3.39,\"120\":3.69,\"121\":3.12,\"122\":3.1,\"123\":3.64,\"124\":3.28,\"125\":2.84,\"126\":2.44,\"127\":2.78,\"128\":2.57,\"129\":1.29,\"130\":1.42,\"131\":1.36,\"132\":1.29,\"133\":1.51,\"134\":1.58,\"135\":1.27,\"136\":1.69,\"137\":1.82,\"138\":2.15,\"139\":2.31,\"140\":2.47,\"141\":2.06,\"142\":2.05,\"143\":2.0,\"144\":1.68,\"145\":1.33,\"146\":1.86,\"147\":1.62,\"148\":1.33,\"149\":1.3,\"150\":1.47,\"151\":1.33,\"152\":1.51,\"153\":1.55,\"154\":1.48,\"155\":1.64,\"156\":1.73,\"157\":1.96,\"158\":1.78,\"159\":1.58,\"160\":1.82,\"161\":2.11,\"162\":1.75,\"163\":1.68,\"164\":1.75,\"165\":1.56,\"166\":1.75,\"167\":1.8,\"168\":1.92,\"169\":1.83,\"170\":1.63,\"171\":1.71,\"172\":1.74,\"173\":1.56,\"174\":1.56,\"175\":1.62,\"176\":1.6},\"1065\":{\"0\":1050,\"1\":1185,\"2\":1480,\"3\":735,\"4\":1450,\"5\":1290,\"6\":1295,\"7\":1045,\"8\":1045,\"9\":1510,\"10\":1280,\"11\":1320,\"12\":1150,\"13\":1547,\"14\":1310,\"15\":1280,\"16\":1130,\"17\":1680,\"18\":845,\"19\":780,\"20\":770,\"21\":1035,\"22\":1015,\"23\":845,\"24\":830,\"25\":1195,\"26\":1285,\"27\":915,\"28\":1035,\"29\":1285,\"30\":1515,\"31\":990,\"32\":1235,\"33\":1095,\"34\":920,\"35\":880,\"36\":1105,\"37\":1020,\"38\":760,\"39\":795,\"40\":1035,\"41\":1095,\"42\":680,\"43\":885,\"44\":1080,\"45\":1065,\"46\":985,\"47\":1060,\"48\":1260,\"49\":1150,\"50\":1265,\"51\":1190,\"52\":1375,\"53\":1060,\"54\":1120,\"55\":970,\"56\":1270,\"57\":1285,\"58\":520,\"59\":680,\"60\":450,\"61\":630,\"62\":420,\"63\":355,\"64\":678,\"65\":502,\"66\":510,\"67\":750,\"68\":718,\"69\":870,\"70\":410,\"71\":472,\"72\":985,\"73\":886,\"74\":428,\"75\":392,\"76\":500,\"77\":750,\"78\":463,\"79\":278,\"80\":714,\"81\":630,\"82\":515,\"83\":520,\"84\":450,\"85\":495,\"86\":562,\"87\":680,\"88\":625,\"89\":480,\"90\":450,\"91\":495,\"92\":290,\"93\":345,\"94\":937,\"95\":625,\"96\":428,\"97\":660,\"98\":406,\"99\":710,\"100\":562,\"101\":438,\"102\":415,\"103\":672,\"104\":315,\"105\":510,\"106\":488,\"107\":312,\"108\":680,\"109\":562,\"110\":325,\"111\":607,\"112\":434,\"113\":385,\"114\":407,\"115\":495,\"116\":345,\"117\":372,\"118\":564,\"119\":625,\"120\":465,\"121\":365,\"122\":380,\"123\":380,\"124\":378,\"125\":352,\"126\":466,\"127\":342,\"128\":580,\"129\":630,\"130\":530,\"131\":560,\"132\":600,\"133\":650,\"134\":695,\"135\":720,\"136\":515,\"137\":580,\"138\":590,\"139\":600,\"140\":780,\"141\":520,\"142\":550,\"143\":855,\"144\":830,\"145\":415,\"146\":625,\"147\":650,\"148\":550,\"149\":500,\"150\":480,\"151\":425,\"152\":675,\"153\":640,\"154\":725,\"155\":480,\"156\":880,\"157\":660,\"158\":620,\"159\":520,\"160\":680,\"161\":570,\"162\":675,\"163\":615,\"164\":520,\"165\":695,\"166\":685,\"167\":750,\"168\":630,\"169\":510,\"170\":470,\"171\":660,\"172\":740,\"173\":750,\"174\":835,\"175\":840,\"176\":560}}'"
      ]
     },
     "execution_count": 127,
     "metadata": {},
     "output_type": "execute_result"
    }
   ],
   "source": [
    "df.to_json()"
   ]
  },
  {
   "cell_type": "code",
   "execution_count": null,
   "metadata": {},
   "outputs": [],
   "source": []
  }
 ],
 "metadata": {
  "kernelspec": {
   "display_name": "Python 3",
   "language": "python",
   "name": "python3"
  },
  "language_info": {
   "codemirror_mode": {
    "name": "ipython",
    "version": 3
   },
   "file_extension": ".py",
   "mimetype": "text/x-python",
   "name": "python",
   "nbconvert_exporter": "python",
   "pygments_lexer": "ipython3",
   "version": "3.7.6"
  }
 },
 "nbformat": 4,
 "nbformat_minor": 4
}
